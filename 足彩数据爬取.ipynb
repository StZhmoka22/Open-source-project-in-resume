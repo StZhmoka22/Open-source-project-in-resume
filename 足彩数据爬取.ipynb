{
 "cells": [
  {
   "cell_type": "markdown",
   "metadata": {},
   "source": [
    "# 创建driver"
   ]
  },
  {
   "cell_type": "code",
   "execution_count": 290,
   "metadata": {
    "ExecuteTime": {
     "end_time": "2023-03-01T10:59:55.492201Z",
     "start_time": "2023-03-01T10:59:51.535539Z"
    },
    "scrolled": true
   },
   "outputs": [
    {
     "name": "stderr",
     "output_type": "stream",
     "text": [
      "<ipython-input-290-2bcaa7dd5014>:4: DeprecationWarning: executable_path has been deprecated, please pass in a Service object\n",
      "  driver = webdriver.Chrome(r'C:\\Users\\StZhmoka22\\Desktop\\chromedriver.exe')\n"
     ]
    }
   ],
   "source": [
    "from selenium import webdriver\n",
    "from selenium.webdriver.common.by import By\n",
    "url = 'http://live.titan007.com/index2in1.aspx?id=3'\n",
    "driver = webdriver.Chrome(r'C:\\Users\\StZhmoka22\\Desktop\\chromedriver.exe')\n",
    "driver.get(url)"
   ]
  },
  {
   "cell_type": "markdown",
   "metadata": {},
   "source": [
    "# 输入关键字并跳转到新网页"
   ]
  },
  {
   "cell_type": "code",
   "execution_count": 90,
   "metadata": {},
   "outputs": [],
   "source": [
    "'''text1 = driver.find_element(By.XPATH,'//input[@type=\"text\"][@id=\"search-input\"][@name=\"q\"][@placeholder=\"请输入检索关键字\"]')\n",
    "text1.send_keys('上海新增')\n",
    "text1.send_keys('\\ue007')\n",
    "driver.switch_to.window(driver.window_handles[1])'''"
   ]
  },
  {
   "cell_type": "markdown",
   "metadata": {},
   "source": [
    "# 网页基本设置"
   ]
  },
  {
   "cell_type": "markdown",
   "metadata": {},
   "source": [
    "## 赛事筛选"
   ]
  },
  {
   "cell_type": "code",
   "execution_count": 291,
   "metadata": {
    "ExecuteTime": {
     "end_time": "2023-03-01T10:59:59.772286Z",
     "start_time": "2023-03-01T10:59:58.345379Z"
    }
   },
   "outputs": [
    {
     "data": {
      "text/plain": [
       "'driver.find_element(By.XPATH,\\'//*[@id=\"result-info-inner\"]/div[1]/ul[1]/li[1]\\').click()\\ndriver.find_element(By.XPATH,\\'//*[@id=\"main-body\"]/div[6]/div[3]/div[1]/ul/li[5]/span\\').click()\\ndriver.find_element(By.XPATH,\\'//*[@id=\"dateFilterRange\"]\\').send_keys(\\'2022-04-02 至 2022-05-21\\')\\ndriver.find_element(By.XPATH,\\'//*[@id=\"customTime\"]\\').click()'"
      ]
     },
     "execution_count": 291,
     "metadata": {},
     "output_type": "execute_result"
    }
   ],
   "source": [
    "driver.find_element(By.XPATH,'//*[@id=\"button3\"]').click() # ‘赛事’按钮点击\n",
    "driver.find_element(By.XPATH,'//*[@id=\"Layer2\"]/div[3]/input[2]').click() # '全选'按钮点击\n",
    "driver.find_element(By.XPATH,'//*[@id=\"Layer2\"]/div[3]/input[3]').click() # '反选'按钮点击\n",
    "favorite_match = ['X西杯','L罗甲'] # 以澳威甲，马来超为例，创建感兴趣的赛事列表,注意一定要在单个元素前添加首字母拼音大写\n",
    "\n",
    "# 热门赛事筛选\n",
    "for match_name in favorite_match:\n",
    "    class_n = match_name[0]\n",
    "    match_name_CH = match_name[1:]\n",
    "    match_text = driver.find_element(By.XPATH,'//*[@id=\"classHot\"]').text\n",
    "    match_list = match_text.split('\\n')\n",
    "    for index,mn in enumerate(match_list):\n",
    "        if match_name_CH in mn and match_name_CH == mn[:len(match_name_CH)]:\n",
    "            driver.find_element(By.XPATH,'//*[@id=\"classHot\"]'+'/label['+str(index+1)+']/span').click()\n",
    "            \n",
    "# 拼音开头赛事筛选\n",
    "for match_name in favorite_match:\n",
    "    class_n = match_name[0]\n",
    "    match_name_CH = match_name[1:]\n",
    "    match_text = driver.find_element(By.XPATH,'//*[@id=\"class'+ class_n+ '\"]').text\n",
    "    match_list = match_text.split('\\n')\n",
    "    for index,mn in enumerate(match_list):\n",
    "        if match_name_CH in mn and match_name_CH == mn[:len(match_name_CH)]:\n",
    "            driver.find_element(By.XPATH,'//*[@id=\"class'+ class_n+ '\"]'+'/label['+str(index+1)+']/span').click()\n",
    "\n",
    "driver.find_element(By.XPATH,'//*[@id=\"Layer2\"]/div[3]/input[4]').click() # 点击确定\n",
    "'''driver.find_element(By.XPATH,'//*[@id=\"result-info-inner\"]/div[1]/ul[1]/li[1]').click()\n",
    "driver.find_element(By.XPATH,'//*[@id=\"main-body\"]/div[6]/div[3]/div[1]/ul/li[5]/span').click()\n",
    "driver.find_element(By.XPATH,'//*[@id=\"dateFilterRange\"]').send_keys('2022-04-02 至 2022-05-21')\n",
    "driver.find_element(By.XPATH,'//*[@id=\"customTime\"]').click()'''"
   ]
  },
  {
   "cell_type": "markdown",
   "metadata": {
    "ExecuteTime": {
     "end_time": "2023-03-01T04:25:45.401384Z",
     "start_time": "2023-03-01T04:25:45.245508Z"
    }
   },
   "source": [
    "## 其他设置"
   ]
  },
  {
   "cell_type": "code",
   "execution_count": 41,
   "metadata": {
    "ExecuteTime": {
     "end_time": "2023-03-01T04:40:47.866676Z",
     "start_time": "2023-03-01T04:40:47.861690Z"
    }
   },
   "outputs": [],
   "source": [
    "# 您这边的需求和网页默认设置相同，故不做处理，后续有变动的话，再做迭代修改"
   ]
  },
  {
   "cell_type": "markdown",
   "metadata": {},
   "source": [
    "## 功能选择"
   ]
  },
  {
   "cell_type": "code",
   "execution_count": 292,
   "metadata": {
    "ExecuteTime": {
     "end_time": "2023-03-01T11:00:03.848825Z",
     "start_time": "2023-03-01T11:00:03.593391Z"
    }
   },
   "outputs": [],
   "source": [
    "driver.find_element(By.XPATH,'//*[@id=\"tools\"]/ul/li[6]').click()# 点击‘功能选择’\n",
    "driver.find_element(By.XPATH,'//*[@id=\"onlyTopShowWin\"]').click()# 点选‘仅提示置顶赛事弹框’\n",
    "driver.find_element(By.XPATH,'//*[@id=\"rank\"]').click()# 点选‘排名’\n",
    "driver.find_element(By.XPATH,'//*[@id=\"Layer3\"]/div[1]/span[2]/a').click()# 点击‘x’关闭功能选择弹窗 "
   ]
  },
  {
   "cell_type": "markdown",
   "metadata": {},
   "source": [
    "# 赛事页面"
   ]
  },
  {
   "cell_type": "markdown",
   "metadata": {},
   "source": [
    "## 定义文本处理为df的函数"
   ]
  },
  {
   "cell_type": "code",
   "execution_count": 288,
   "metadata": {
    "ExecuteTime": {
     "end_time": "2023-03-01T10:56:39.358582Z",
     "start_time": "2023-03-01T10:56:39.351600Z"
    }
   },
   "outputs": [],
   "source": [
    "def text_function(text,match_info_text):\n",
    "    import pandas as pd\n",
    "    new_list = []\n",
    "    data = text.split('\\n')\n",
    "    keys = data[0].split(' ')\n",
    "    keys[-2] = '变化时间（日期）'\n",
    "    keys.insert(-1,'变化时间（时分）')\n",
    "    for item in data[1:]:\n",
    "        if '封' in item:\n",
    "            item = item.replace(' 封 ',' 封 封 封 ')\n",
    "            new_list.append(item.split(' '))\n",
    "        else:\n",
    "            new_list.append(item.split(' '))\n",
    "    for index in range(len(new_list)):\n",
    "        if len(new_list[index]) != 8:\n",
    "            new_list[index] = ['未开始','未开始'] + new_list[index]\n",
    "    df = pd.DataFrame(new_list,columns = keys)\n",
    "    save_root = r'D:\\\\BaiduNetdiskDownload\\\\简历\\\\足球数据情报\\\\'+match_info_text+keys[2]+'vs'+keys[4]+'.csv'\n",
    "    df.to_csv(save_root)"
   ]
  },
  {
   "cell_type": "markdown",
   "metadata": {},
   "source": [
    "## 具体步骤"
   ]
  },
  {
   "cell_type": "code",
   "execution_count": 293,
   "metadata": {
    "ExecuteTime": {
     "end_time": "2023-03-01T11:04:49.555221Z",
     "start_time": "2023-03-01T11:00:08.008158Z"
    }
   },
   "outputs": [],
   "source": [
    "analysis_list = driver.find_elements(By.XPATH,'//td[@class=\"icons2\"]/a[text() = \"析\"]') # 获取所有'析'元素对应的XPATH\n",
    "\n",
    "# 进入所选赛事数据分析页面，设置并取数\n",
    "for elements in analysis_list:\n",
    "    try:\n",
    "        elements.click() # 点击筛选出的赛事对应的‘析’元素\n",
    "        driver.switch_to.window(driver.window_handles[1]) # 移动操作窗口至新窗口\n",
    "        # 赛事分析页面设定\n",
    "        driver.find_element(By.XPATH,'//*[@id=\"right_float\"]/a[1]').click() # 点击‘定制’\n",
    "        driver.find_element(By.XPATH,'//*[@id=\"mySet\"]/div/input[1]').click() # 点击‘全选’\n",
    "        driver.find_element(By.XPATH,'//*[@id=\"mySet\"]/div/input[2]').click() # 点击‘确定’\n",
    "        # 盘口设定\n",
    "        driver.find_element(By.XPATH,'//*[@id=\"hType_hn\"]/option[1]').click() # 主队盘口设置为‘初’盘\n",
    "        driver.find_element(By.XPATH,'//*[@id=\"hType_an\"]/option[1]').click() # 客队盘口设置为‘初’盘\n",
    "        # 过滤无效数据\n",
    "        match_class_element = driver.find_elements(By.XPATH,'//*[@id=\"hn_l\"]/label')# 获取主队近10场比赛所包含的比赛属性\n",
    "        match_class_list = [index for index,item in enumerate(match_class_element) if item.text[-1] == '杯' or item.text[-2:] == '友谊'] # 获取以‘杯’或者‘友谊’结尾的index\n",
    "        input_match_class = driver.find_elements(By.NAME,'hn_l')# 获取对应勾选元素对应的XPATH\n",
    "        for index in match_class_list:\n",
    "            input_match_class[index].click()# 点掉以'杯'或‘友谊’结尾的选项\n",
    "        match_class_element = driver.find_elements(By.XPATH,'//*[@id=\"an_l\"]/label')# 获取客队近10场比赛所包含的比赛属性\n",
    "        match_class_list = [index for index,item in enumerate(match_class_element) if item.text[-1] == '杯' or item.text[-2:] == '友谊'] # 获取以‘杯’或者‘友谊’结尾的index\n",
    "        input_match_class = driver.find_elements(By.NAME,'an_l')# 获取对应勾选元素对应的XPATH\n",
    "        for index in match_class_list:\n",
    "            input_match_class[index].click()# 点掉以'杯'或‘友谊’结尾的选项\n",
    "        # 历史数据抓取\n",
    "        pankou_home = driver.find_elements(By.XPATH,'//*[@id=\"vsNew\"]/tbody/tr/td/table[1]/tbody/*//td[8]/a')# 获取主队近10场所有开盘比赛的页面列表\n",
    "        pankou_away = driver.find_elements(By.XPATH,'//*[@id=\"vsNew\"]/tbody/tr/td/table[2]/tbody/*//td[8]/a')# 获取客队近10场所有开盘比赛的页面列表\n",
    "        pankou = pankou_home+pankou_away\n",
    "        for web in pankou:\n",
    "            web.click()\n",
    "            driver.switch_to.window(driver.window_handles[2])# 移动至盘口页面\n",
    "            match_info = driver.find_element(By.XPATH,'/html/body/div[3]/div[1]/div[3]/div[1]').text.split(' ')[:2]# 获取赛事名称及比赛时间信息\n",
    "            match_info_text = ''.join(match_info)\n",
    "            web_company = driver.find_elements(By.XPATH,'//*[@id=\"odds\"]/tbody/tr')# 获取所有开盘庄家具体信息\n",
    "            # 定位Crow公司所在位置\n",
    "            for index,wc in enumerate(web_company):\n",
    "                if wc.text[:4] == 'Crow':\n",
    "                    driver.find_element(By.XPATH,'//*[@id=\"odds\"]/tbody/tr['+str(index+1)+']/td[12]/a[1]').click()# 点击‘Crow’对应的‘详’\n",
    "                    break\n",
    "            driver.switch_to.window(driver.window_handles[3])# 移动至Crow水位变化详情页\n",
    "            text = driver.find_element(By.XPATH,'//*[@id=\"odds2\"]/table/tbody').text# 获取Crow水位变化详情页数据\n",
    "            text_function(text,match_info_text)# 存储数据为csv\n",
    "            driver.close()# 关闭driver.window_handles[3]页面\n",
    "            driver.switch_to.window(driver.window_handles[2])# 移动至盘口页面\n",
    "            driver.close()# 关闭driver.window_handles[2]页面\n",
    "            driver.switch_to.window(driver.window_handles[1])\n",
    "        driver.close()\n",
    "        driver.switch_to.window(driver.window_handles[0])# 赛事筛选完成页面\n",
    "    except:\n",
    "        pass"
   ]
  },
  {
   "cell_type": "code",
   "execution_count": 267,
   "metadata": {
    "ExecuteTime": {
     "end_time": "2023-03-01T10:03:26.560918Z",
     "start_time": "2023-03-01T10:03:26.528784Z"
    }
   },
   "outputs": [
    {
     "data": {
      "text/plain": [
       "30"
      ]
     },
     "execution_count": 267,
     "metadata": {},
     "output_type": "execute_result"
    }
   ],
   "source": [
    "            driver.close()# 关闭driver.window_handles[3]页面\n",
    "            driver.switch_to.window(driver.window_handles[2])# 移动至盘口页面\n",
    "            driver.close()# 关闭driver.window_handles[2]页面\n",
    "            driver.switch_to.window(driver.window_handles[1])# 移动至'析'页面\n",
    "            driver.close()\n",
    "            driver.switch_to.window(driver.window_handles[0])# 赛事筛选完成页面"
   ]
  },
  {
   "cell_type": "code",
   "execution_count": 279,
   "metadata": {
    "ExecuteTime": {
     "end_time": "2023-03-01T10:23:57.860068Z",
     "start_time": "2023-03-01T10:23:57.828155Z"
    }
   },
   "outputs": [
    {
     "data": {
      "text/plain": [
       "[<selenium.webdriver.remote.webelement.WebElement (session=\"cde50caf804a0b3e41b5f53379ea9290\", element=\"fcd1dd6d-6d04-48e7-9b76-f3eba85f680f\")>,\n",
       " <selenium.webdriver.remote.webelement.WebElement (session=\"cde50caf804a0b3e41b5f53379ea9290\", element=\"e9efcc09-ccdd-4cbb-bb01-ace054480319\")>,\n",
       " <selenium.webdriver.remote.webelement.WebElement (session=\"cde50caf804a0b3e41b5f53379ea9290\", element=\"339f5902-1e3b-4d6f-a08b-5e78349faf57\")>,\n",
       " <selenium.webdriver.remote.webelement.WebElement (session=\"cde50caf804a0b3e41b5f53379ea9290\", element=\"b9e7caf0-f99d-4fb9-a5b1-cdb6f341420d\")>,\n",
       " <selenium.webdriver.remote.webelement.WebElement (session=\"cde50caf804a0b3e41b5f53379ea9290\", element=\"dd29408a-a802-4191-89d5-48b3491d8f41\")>,\n",
       " <selenium.webdriver.remote.webelement.WebElement (session=\"cde50caf804a0b3e41b5f53379ea9290\", element=\"390d5887-0e23-450c-84b2-71f463c1ec06\")>,\n",
       " <selenium.webdriver.remote.webelement.WebElement (session=\"cde50caf804a0b3e41b5f53379ea9290\", element=\"8e6aacd7-f9a6-40b5-8119-f0ef5a723189\")>,\n",
       " <selenium.webdriver.remote.webelement.WebElement (session=\"cde50caf804a0b3e41b5f53379ea9290\", element=\"a893a77c-93a3-4c05-ab9e-621579830c0e\")>,\n",
       " <selenium.webdriver.remote.webelement.WebElement (session=\"cde50caf804a0b3e41b5f53379ea9290\", element=\"0ea80cde-2211-4c90-b6d5-da57d18bf406\")>,\n",
       " <selenium.webdriver.remote.webelement.WebElement (session=\"cde50caf804a0b3e41b5f53379ea9290\", element=\"ea322ad5-6179-4e2c-ba8b-f6e5baa08bfc\")>]"
      ]
     },
     "execution_count": 279,
     "metadata": {},
     "output_type": "execute_result"
    }
   ],
   "source": [
    "driver.find_elements(By.XPATH,'//*[@id=\"vsNew\"]/tbody/tr/td/table[1]/tbody/*//td[8]/a')"
   ]
  },
  {
   "cell_type": "code",
   "execution_count": 176,
   "metadata": {
    "ExecuteTime": {
     "end_time": "2023-03-01T07:54:44.815407Z",
     "start_time": "2023-03-01T07:54:44.531110Z"
    }
   },
   "outputs": [],
   "source": [
    "\n",
    "web_company = driver.find_elements(By.XPATH,'//*[@id=\"odds\"]/tbody/tr')# 获取所有开盘庄家具体信息\n",
    "# 定位Crow公司所在位置\n",
    "for index,wc in enumerate(web_company):\n",
    "    if wc.text[:4] == 'Crow':\n",
    "        driver.find_element(By.XPATH,'//*[@id=\"odds\"]/tbody/tr['+str(index+1)+']/td[12]/a[1]').click()# 点击‘Crow’对应的‘详’\n",
    "        break"
   ]
  },
  {
   "cell_type": "code",
   "execution_count": 191,
   "metadata": {
    "ExecuteTime": {
     "end_time": "2023-03-01T08:31:10.082731Z",
     "start_time": "2023-03-01T08:31:09.810732Z"
    }
   },
   "outputs": [
    {
     "data": {
      "text/plain": [
       "['时间 比分 哈柯亚东悉尼市 盘口 坎特贝利班克斯敦 变化时间 状态',\n",
       " '90 2-0 封 2-4 18:20 滚',\n",
       " '88 2-0 0.99 平手 0.85 2-4 18:18 滚',\n",
       " '88 2-0 0.95 平手 0.89 2-4 18:18 滚',\n",
       " '87 2-0 0.99 平手 0.85 2-4 18:17 滚',\n",
       " '86 2-0 0.97 平手 0.87 2-4 18:16 滚',\n",
       " '83 2-0 0.92 平手 0.92 2-4 18:14 滚',\n",
       " '83 2-0 0.97 平手 0.87 2-4 18:13 滚',\n",
       " '82 2-0 0.92 平手 0.92 2-4 18:12 滚',\n",
       " '82 2-0 0.88 平手 0.96 2-4 18:12 滚',\n",
       " '80 2-0 0.90 平手 0.94 2-4 18:10 滚',\n",
       " '79 2-0 0.91 平手 0.93 2-4 18:10 滚',\n",
       " '79 2-0 0.90 平手 0.94 2-4 18:10 滚',\n",
       " '79 2-0 0.91 平手 0.93 2-4 18:09 滚',\n",
       " '78 1-0 封 2-4 18:08 滚',\n",
       " '78 1-0 0.90 平手 0.94 2-4 18:08 滚',\n",
       " '76 0-0 封 2-4 18:07 滚',\n",
       " '76 0-0 0.73 平手 1.12 2-4 18:07 滚',\n",
       " '76 0-0 0.78 平手 1.06 2-4 18:06 滚',\n",
       " '72 0-0 0.83 平手 1.01 2-4 18:02 滚',\n",
       " '69 0-0 0.84 平手 1.00 2-4 17:59 滚',\n",
       " '69 0-0 0.79 平手 1.05 2-4 17:59 滚',\n",
       " '69 0-0 0.84 平手 1.00 2-4 17:59 滚',\n",
       " '68 0-0 0.79 平手 1.05 2-4 17:58 滚',\n",
       " '65 0-0 0.76 平手 1.08 2-4 17:55 滚',\n",
       " '65 0-0 0.72 平手 1.13 2-4 17:54 滚',\n",
       " '64 0-0 0.77 平手 1.07 2-4 17:54 滚',\n",
       " '63 0-0 0.72 平手 1.13 2-4 17:53 滚',\n",
       " '62 0-0 0.67 平手 1.20 2-4 17:52 滚',\n",
       " '62 0-0 0.65 平手 1.23 2-4 17:52 滚',\n",
       " '62 0-0 0.70 平手 1.16 2-4 17:52 滚',\n",
       " '62 0-0 0.65 平手 1.23 2-4 17:52 滚',\n",
       " '48 0-0 0.70 平手 1.16 2-4 17:37 滚',\n",
       " '46 0-0 0.69 平手 1.17 2-4 17:36 滚',\n",
       " '46 0-0 0.58 平手 1.35 2-4 17:36 滚',\n",
       " '中场 0-0 0.73 平手 1.12 2-4 17:23 滚',\n",
       " '中场 0-0 0.76 平手 1.08 2-4 17:23 滚',\n",
       " '中场 0-0 0.73 平手 1.12 2-4 17:23 滚',\n",
       " '44 0-0 0.70 平手 1.16 2-4 17:21 滚',\n",
       " '43 0-0 0.75 平手 1.09 2-4 17:20 滚',\n",
       " '42 0-0 1.08 平手/半球 0.76 2-4 17:19 滚',\n",
       " '41 0-0 1.07 平手/半球 0.77 2-4 17:18 滚',\n",
       " '40 0-0 1.04 平手/半球 0.80 2-4 17:17 滚',\n",
       " '39 0-0 1.00 平手/半球 0.84 2-4 17:16 滚',\n",
       " '37 0-0 0.97 平手/半球 0.87 2-4 17:14 滚',\n",
       " '37 0-0 1.00 平手/半球 0.84 2-4 17:14 滚',\n",
       " '36 0-0 封 2-4 17:14 滚',\n",
       " '36 0-0 0.99 平手/半球 0.85 2-4 17:13 滚',\n",
       " '36 0-0 1.01 平手/半球 0.83 2-4 17:13 滚',\n",
       " '34 0-0 1.00 平手/半球 0.84 2-4 17:11 滚',\n",
       " '32 0-0 0.99 平手/半球 0.85 2-4 17:09 滚',\n",
       " '30 0-0 0.98 平手/半球 0.86 2-4 17:07 滚',\n",
       " '30 0-0 1.00 平手/半球 0.84 2-4 17:07 滚',\n",
       " '27 0-0 0.99 平手/半球 0.85 2-4 17:04 滚',\n",
       " '25 0-0 1.01 平手/半球 0.83 2-4 17:02 滚',\n",
       " '25 0-0 0.99 平手/半球 0.85 2-4 17:02 滚',\n",
       " '22 0-0 0.98 平手/半球 0.86 2-4 16:59 滚',\n",
       " '21 0-0 0.97 平手/半球 0.87 2-4 16:58 滚',\n",
       " '21 0-0 1.00 平手/半球 0.84 2-4 16:58 滚',\n",
       " '21 0-0 0.97 平手/半球 0.87 2-4 16:58 滚',\n",
       " '21 0-0 1.00 平手/半球 0.84 2-4 16:58 滚',\n",
       " '19 0-0 0.99 平手/半球 0.85 2-4 16:56 滚',\n",
       " '19 0-0 0.96 平手/半球 0.88 2-4 16:56 滚',\n",
       " '19 0-0 0.99 平手/半球 0.85 2-4 16:56 滚',\n",
       " '19 0-0 0.96 平手/半球 0.88 2-4 16:56 滚',\n",
       " '16 0-0 0.95 平手/半球 0.89 2-4 16:53 滚',\n",
       " '16 0-0 0.94 平手/半球 0.90 2-4 16:53 滚',\n",
       " '16 0-0 0.95 平手/半球 0.89 2-4 16:53 滚',\n",
       " '14 0-0 0.94 平手/半球 0.90 2-4 16:51 滚',\n",
       " '12 0-0 0.97 平手/半球 0.87 2-4 16:49 滚',\n",
       " '11 0-0 0.98 平手/半球 0.86 2-4 16:48 滚',\n",
       " '11 0-0 0.97 平手/半球 0.87 2-4 16:48 滚',\n",
       " '09 0-0 0.96 平手/半球 0.88 2-4 16:45 滚',\n",
       " '08 0-0 0.95 平手/半球 0.89 2-4 16:45 滚',\n",
       " '08 0-0 0.96 平手/半球 0.88 2-4 16:45 滚',\n",
       " '06 0-0 0.93 平手/半球 0.91 2-4 16:43 滚',\n",
       " '05 0-0 0.89 平手/半球 0.95 2-4 16:42 滚',\n",
       " '04 0-0 0.86 平手/半球 0.98 2-4 16:41 滚',\n",
       " '04 0-0 0.84 平手/半球 1.00 2-4 16:41 滚',\n",
       " '02 0-0 0.81 平手/半球 1.03 2-4 16:39 滚',\n",
       " '01 0-0 1.01 半球 0.83 2-4 16:38 滚',\n",
       " '0.99 半球 0.85 2-4 15:55 即',\n",
       " '1.16 半球/一球 0.70 2-4 15:42 即',\n",
       " '1.00 半球/一球 0.84 2-4 07:03 早',\n",
       " '0.98 半球/一球 0.84 2-4 01:07 早']"
      ]
     },
     "execution_count": 191,
     "metadata": {},
     "output_type": "execute_result"
    }
   ],
   "source": [
    "text = driver.find_element(By.XPATH,'//*[@id=\"odds2\"]/table/tbody').text\n",
    "text.split('\\n')"
   ]
  }
 ],
 "metadata": {
  "kernelspec": {
   "display_name": "Python 3",
   "language": "python",
   "name": "python3"
  },
  "language_info": {
   "codemirror_mode": {
    "name": "ipython",
    "version": 3
   },
   "file_extension": ".py",
   "mimetype": "text/x-python",
   "name": "python",
   "nbconvert_exporter": "python",
   "pygments_lexer": "ipython3",
   "version": "3.8.5"
  },
  "toc": {
   "base_numbering": 1,
   "nav_menu": {},
   "number_sections": true,
   "sideBar": true,
   "skip_h1_title": false,
   "title_cell": "Table of Contents",
   "title_sidebar": "Contents",
   "toc_cell": false,
   "toc_position": {},
   "toc_section_display": true,
   "toc_window_display": false
  }
 },
 "nbformat": 4,
 "nbformat_minor": 4
}
