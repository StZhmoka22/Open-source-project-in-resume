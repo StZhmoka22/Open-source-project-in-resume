{
 "cells": [
  {
   "cell_type": "markdown",
   "metadata": {},
   "source": [
    "# 基础设置"
   ]
  },
  {
   "cell_type": "code",
   "execution_count": 63,
   "metadata": {
    "ExecuteTime": {
     "end_time": "2023-01-09T03:26:50.505186Z",
     "start_time": "2023-01-09T03:26:50.426394Z"
    }
   },
   "outputs": [],
   "source": [
    "import pandas as pd\n",
    "import numpy as np\n",
    "\n",
    "import matplotlib.pyplot as plt\n",
    "%matplotlib inline\n",
    "import seaborn as sns \n",
    "sns.set(style='whitegrid',palette=\"Set2\")\n",
    "plt.rcParams['font.sans-serif']=['SimHei']\n",
    "\n",
    "from warnings import filterwarnings\n",
    "filterwarnings('ignore')"
   ]
  },
  {
   "cell_type": "markdown",
   "metadata": {},
   "source": [
    "# 加载数据"
   ]
  },
  {
   "cell_type": "code",
   "execution_count": 64,
   "metadata": {
    "ExecuteTime": {
     "end_time": "2023-01-09T03:26:50.834305Z",
     "start_time": "2023-01-09T03:26:50.511170Z"
    },
    "scrolled": true
   },
   "outputs": [
    {
     "data": {
      "text/html": [
       "<div>\n",
       "<style scoped>\n",
       "    .dataframe tbody tr th:only-of-type {\n",
       "        vertical-align: middle;\n",
       "    }\n",
       "\n",
       "    .dataframe tbody tr th {\n",
       "        vertical-align: top;\n",
       "    }\n",
       "\n",
       "    .dataframe thead th {\n",
       "        text-align: right;\n",
       "    }\n",
       "</style>\n",
       "<table border=\"1\" class=\"dataframe\">\n",
       "  <thead>\n",
       "    <tr style=\"text-align: right;\">\n",
       "      <th></th>\n",
       "      <th>id</th>\n",
       "      <th>is_tv_subscriber</th>\n",
       "      <th>is_movie_package_subscriber</th>\n",
       "      <th>subscription_age</th>\n",
       "      <th>bill_avg</th>\n",
       "      <th>reamining_contract</th>\n",
       "      <th>service_failure_count</th>\n",
       "      <th>download_avg</th>\n",
       "      <th>upload_avg</th>\n",
       "      <th>download_over_limit</th>\n",
       "      <th>churn</th>\n",
       "    </tr>\n",
       "  </thead>\n",
       "  <tbody>\n",
       "    <tr>\n",
       "      <th>0</th>\n",
       "      <td>15</td>\n",
       "      <td>1</td>\n",
       "      <td>0</td>\n",
       "      <td>11.95</td>\n",
       "      <td>25</td>\n",
       "      <td>0.14</td>\n",
       "      <td>0</td>\n",
       "      <td>8.4</td>\n",
       "      <td>2.3</td>\n",
       "      <td>0</td>\n",
       "      <td>0</td>\n",
       "    </tr>\n",
       "    <tr>\n",
       "      <th>1</th>\n",
       "      <td>18</td>\n",
       "      <td>0</td>\n",
       "      <td>0</td>\n",
       "      <td>8.22</td>\n",
       "      <td>0</td>\n",
       "      <td>NaN</td>\n",
       "      <td>0</td>\n",
       "      <td>0.0</td>\n",
       "      <td>0.0</td>\n",
       "      <td>0</td>\n",
       "      <td>1</td>\n",
       "    </tr>\n",
       "    <tr>\n",
       "      <th>2</th>\n",
       "      <td>23</td>\n",
       "      <td>1</td>\n",
       "      <td>0</td>\n",
       "      <td>8.91</td>\n",
       "      <td>16</td>\n",
       "      <td>0.00</td>\n",
       "      <td>0</td>\n",
       "      <td>13.7</td>\n",
       "      <td>0.9</td>\n",
       "      <td>0</td>\n",
       "      <td>1</td>\n",
       "    </tr>\n",
       "    <tr>\n",
       "      <th>3</th>\n",
       "      <td>27</td>\n",
       "      <td>0</td>\n",
       "      <td>0</td>\n",
       "      <td>6.87</td>\n",
       "      <td>21</td>\n",
       "      <td>NaN</td>\n",
       "      <td>1</td>\n",
       "      <td>0.0</td>\n",
       "      <td>0.0</td>\n",
       "      <td>0</td>\n",
       "      <td>1</td>\n",
       "    </tr>\n",
       "    <tr>\n",
       "      <th>4</th>\n",
       "      <td>34</td>\n",
       "      <td>0</td>\n",
       "      <td>0</td>\n",
       "      <td>6.39</td>\n",
       "      <td>0</td>\n",
       "      <td>NaN</td>\n",
       "      <td>0</td>\n",
       "      <td>0.0</td>\n",
       "      <td>0.0</td>\n",
       "      <td>0</td>\n",
       "      <td>1</td>\n",
       "    </tr>\n",
       "  </tbody>\n",
       "</table>\n",
       "</div>"
      ],
      "text/plain": [
       "   id  is_tv_subscriber  is_movie_package_subscriber  subscription_age  \\\n",
       "0  15                 1                            0             11.95   \n",
       "1  18                 0                            0              8.22   \n",
       "2  23                 1                            0              8.91   \n",
       "3  27                 0                            0              6.87   \n",
       "4  34                 0                            0              6.39   \n",
       "\n",
       "   bill_avg  reamining_contract  service_failure_count  download_avg  \\\n",
       "0        25                0.14                      0           8.4   \n",
       "1         0                 NaN                      0           0.0   \n",
       "2        16                0.00                      0          13.7   \n",
       "3        21                 NaN                      1           0.0   \n",
       "4         0                 NaN                      0           0.0   \n",
       "\n",
       "   upload_avg  download_over_limit  churn  \n",
       "0         2.3                    0      0  \n",
       "1         0.0                    0      1  \n",
       "2         0.9                    0      1  \n",
       "3         0.0                    0      1  \n",
       "4         0.0                    0      1  "
      ]
     },
     "execution_count": 64,
     "metadata": {},
     "output_type": "execute_result"
    }
   ],
   "source": [
    "data = pd.read_csv(r\"D:\\BaiduNetdiskDownload\\机器学习实战\\internet_service_churn.csv\",header = 0)\n",
    "data.head()"
   ]
  },
  {
   "cell_type": "markdown",
   "metadata": {},
   "source": [
    "## 数据说明"
   ]
  },
  {
   "cell_type": "markdown",
   "metadata": {},
   "source": [
    "* id:客户唯一ID\n",
    "* is_tv_subscriber:是否订阅电视\n",
    "* is_movie_package_subscriber:是否有电影套餐\n",
    "* subscription_age:服务年限\n",
    "* bill_avg:过去3个月账单平均值\n",
    "* reamining_contract:客户合同还剩多少年\n",
    "    - 如果为空值:客户还没有合同。\n",
    "    - 有合同时间的客户必须使用他们的服务，直到合同结束。如果他们在合同期限结束前取消服务，他们将支付罚款。\n",
    "* service_failure_count:过去3个月因服务失败而致电呼叫中心的客户呼叫次数\n",
    "* download_avg:过去3个月平均下载量（GB）\n",
    "* upload_avg:过去3个月平均上传量（GB）\n",
    "* download_over_limit:大多数客户都有下载限制。如果他们达到这个限制，他们必须为此付费。此列包含过去9个月的\"限制次数\"\n",
    "* churn:客户是否流失"
   ]
  },
  {
   "cell_type": "markdown",
   "metadata": {},
   "source": [
    "## 问题描述"
   ]
  },
  {
   "cell_type": "markdown",
   "metadata": {},
   "source": [
    "该数据集收集了使用服务的客户相关数据，并在客户流失与否时进行标记，可以使用这个数据集来进行数据分析，并创建一个流失模型来预测客户流失概率。"
   ]
  },
  {
   "cell_type": "markdown",
   "metadata": {},
   "source": [
    "# 探索数据"
   ]
  },
  {
   "cell_type": "markdown",
   "metadata": {},
   "source": [
    "## 数据基本情况"
   ]
  },
  {
   "cell_type": "markdown",
   "metadata": {},
   "source": [
    "### 缺失值、数值类型"
   ]
  },
  {
   "cell_type": "code",
   "execution_count": 65,
   "metadata": {
    "ExecuteTime": {
     "end_time": "2023-01-09T03:26:50.866217Z",
     "start_time": "2023-01-09T03:26:50.839290Z"
    },
    "scrolled": true
   },
   "outputs": [
    {
     "name": "stdout",
     "output_type": "stream",
     "text": [
      "<class 'pandas.core.frame.DataFrame'>\n",
      "RangeIndex: 72274 entries, 0 to 72273\n",
      "Data columns (total 11 columns):\n",
      " #   Column                       Non-Null Count  Dtype  \n",
      "---  ------                       --------------  -----  \n",
      " 0   id                           72274 non-null  int64  \n",
      " 1   is_tv_subscriber             72274 non-null  int64  \n",
      " 2   is_movie_package_subscriber  72274 non-null  int64  \n",
      " 3   subscription_age             72274 non-null  float64\n",
      " 4   bill_avg                     72274 non-null  int64  \n",
      " 5   reamining_contract           50702 non-null  float64\n",
      " 6   service_failure_count        72274 non-null  int64  \n",
      " 7   download_avg                 71893 non-null  float64\n",
      " 8   upload_avg                   71893 non-null  float64\n",
      " 9   download_over_limit          72274 non-null  int64  \n",
      " 10  churn                        72274 non-null  int64  \n",
      "dtypes: float64(4), int64(7)\n",
      "memory usage: 6.1 MB\n"
     ]
    }
   ],
   "source": [
    "data.info(show_counts = True)"
   ]
  },
  {
   "cell_type": "markdown",
   "metadata": {},
   "source": [
    "#### 发现1"
   ]
  },
  {
   "cell_type": "markdown",
   "metadata": {},
   "source": [
    "* 缺失值：\n",
    "    - <span class=\"girk\">reamining_contract</span>存在20,000多的缺失值，<span class=\"girk\">缺失值意味着对应的该客户还没有签订合同</span>，并不属于狭义缺失数据的情况，考虑到存在某些客户剩余合同年限为0.00的情况，于是<span class=\"pirk\">后续可考虑增加is_contract列，reamining_contract中的空值设为0.00，其对应的is_contract的值设为0，其余is_contract值设为1</span>。\n",
    "    - <span class=\"girk\">download_avg</span>和<span class=\"girk\">upload_avg</span>各存在少量的空值情况，后<span class=\"pirk\">续可考虑删除对应数据行或使用列中位数代替，具体选择需根据后续探索结果而定</span>。\n",
    "* 数值类型：\n",
    "    - 类别数据除<span class=\"girk\">目标变量churn</span>外还有<span class=\"girk\">is_tv_subscriber</span>和<span class=\"girk\">is_movie_package_subscriber</span>，<span class=\"pirk\">后续可选择使用LabelEncoder和OnehotEncoder组合对应处理，但考虑到上述特征均为二分类特征，故或许可以不做独热编码处理</span>。"
   ]
  },
  {
   "cell_type": "markdown",
   "metadata": {},
   "source": [
    "### 数据分布特征"
   ]
  },
  {
   "cell_type": "code",
   "execution_count": 66,
   "metadata": {
    "ExecuteTime": {
     "end_time": "2023-01-09T03:26:51.066687Z",
     "start_time": "2023-01-09T03:26:50.871203Z"
    }
   },
   "outputs": [
    {
     "data": {
      "text/html": [
       "<div>\n",
       "<style scoped>\n",
       "    .dataframe tbody tr th:only-of-type {\n",
       "        vertical-align: middle;\n",
       "    }\n",
       "\n",
       "    .dataframe tbody tr th {\n",
       "        vertical-align: top;\n",
       "    }\n",
       "\n",
       "    .dataframe thead th {\n",
       "        text-align: right;\n",
       "    }\n",
       "</style>\n",
       "<table border=\"1\" class=\"dataframe\">\n",
       "  <thead>\n",
       "    <tr style=\"text-align: right;\">\n",
       "      <th></th>\n",
       "      <th>id</th>\n",
       "      <th>is_tv_subscriber</th>\n",
       "      <th>is_movie_package_subscriber</th>\n",
       "      <th>subscription_age</th>\n",
       "      <th>bill_avg</th>\n",
       "      <th>reamining_contract</th>\n",
       "      <th>service_failure_count</th>\n",
       "      <th>download_avg</th>\n",
       "      <th>upload_avg</th>\n",
       "      <th>download_over_limit</th>\n",
       "      <th>churn</th>\n",
       "    </tr>\n",
       "  </thead>\n",
       "  <tbody>\n",
       "    <tr>\n",
       "      <th>count</th>\n",
       "      <td>7.227400e+04</td>\n",
       "      <td>72274.000000</td>\n",
       "      <td>72274.000000</td>\n",
       "      <td>72274.000000</td>\n",
       "      <td>72274.000000</td>\n",
       "      <td>50702.000000</td>\n",
       "      <td>72274.000000</td>\n",
       "      <td>71893.000000</td>\n",
       "      <td>71893.000000</td>\n",
       "      <td>72274.000000</td>\n",
       "      <td>72274.000000</td>\n",
       "    </tr>\n",
       "    <tr>\n",
       "      <th>mean</th>\n",
       "      <td>8.463182e+05</td>\n",
       "      <td>0.815259</td>\n",
       "      <td>0.334629</td>\n",
       "      <td>2.450051</td>\n",
       "      <td>18.942483</td>\n",
       "      <td>0.716039</td>\n",
       "      <td>0.274234</td>\n",
       "      <td>43.689911</td>\n",
       "      <td>4.192076</td>\n",
       "      <td>0.207613</td>\n",
       "      <td>0.554141</td>\n",
       "    </tr>\n",
       "    <tr>\n",
       "      <th>std</th>\n",
       "      <td>4.891022e+05</td>\n",
       "      <td>0.388090</td>\n",
       "      <td>0.471864</td>\n",
       "      <td>2.034990</td>\n",
       "      <td>13.215386</td>\n",
       "      <td>0.697102</td>\n",
       "      <td>0.816621</td>\n",
       "      <td>63.405963</td>\n",
       "      <td>9.818896</td>\n",
       "      <td>0.997123</td>\n",
       "      <td>0.497064</td>\n",
       "    </tr>\n",
       "    <tr>\n",
       "      <th>min</th>\n",
       "      <td>1.500000e+01</td>\n",
       "      <td>0.000000</td>\n",
       "      <td>0.000000</td>\n",
       "      <td>-0.020000</td>\n",
       "      <td>0.000000</td>\n",
       "      <td>0.000000</td>\n",
       "      <td>0.000000</td>\n",
       "      <td>0.000000</td>\n",
       "      <td>0.000000</td>\n",
       "      <td>0.000000</td>\n",
       "      <td>0.000000</td>\n",
       "    </tr>\n",
       "    <tr>\n",
       "      <th>25%</th>\n",
       "      <td>4.222165e+05</td>\n",
       "      <td>1.000000</td>\n",
       "      <td>0.000000</td>\n",
       "      <td>0.930000</td>\n",
       "      <td>13.000000</td>\n",
       "      <td>0.000000</td>\n",
       "      <td>0.000000</td>\n",
       "      <td>6.700000</td>\n",
       "      <td>0.500000</td>\n",
       "      <td>0.000000</td>\n",
       "      <td>0.000000</td>\n",
       "    </tr>\n",
       "    <tr>\n",
       "      <th>50%</th>\n",
       "      <td>8.477840e+05</td>\n",
       "      <td>1.000000</td>\n",
       "      <td>0.000000</td>\n",
       "      <td>1.980000</td>\n",
       "      <td>19.000000</td>\n",
       "      <td>0.570000</td>\n",
       "      <td>0.000000</td>\n",
       "      <td>27.800000</td>\n",
       "      <td>2.100000</td>\n",
       "      <td>0.000000</td>\n",
       "      <td>1.000000</td>\n",
       "    </tr>\n",
       "    <tr>\n",
       "      <th>75%</th>\n",
       "      <td>1.269562e+06</td>\n",
       "      <td>1.000000</td>\n",
       "      <td>1.000000</td>\n",
       "      <td>3.300000</td>\n",
       "      <td>22.000000</td>\n",
       "      <td>1.310000</td>\n",
       "      <td>0.000000</td>\n",
       "      <td>60.500000</td>\n",
       "      <td>4.800000</td>\n",
       "      <td>0.000000</td>\n",
       "      <td>1.000000</td>\n",
       "    </tr>\n",
       "    <tr>\n",
       "      <th>max</th>\n",
       "      <td>1.689744e+06</td>\n",
       "      <td>1.000000</td>\n",
       "      <td>1.000000</td>\n",
       "      <td>12.800000</td>\n",
       "      <td>406.000000</td>\n",
       "      <td>2.920000</td>\n",
       "      <td>19.000000</td>\n",
       "      <td>4415.200000</td>\n",
       "      <td>453.300000</td>\n",
       "      <td>7.000000</td>\n",
       "      <td>1.000000</td>\n",
       "    </tr>\n",
       "  </tbody>\n",
       "</table>\n",
       "</div>"
      ],
      "text/plain": [
       "                 id  is_tv_subscriber  is_movie_package_subscriber  \\\n",
       "count  7.227400e+04      72274.000000                 72274.000000   \n",
       "mean   8.463182e+05          0.815259                     0.334629   \n",
       "std    4.891022e+05          0.388090                     0.471864   \n",
       "min    1.500000e+01          0.000000                     0.000000   \n",
       "25%    4.222165e+05          1.000000                     0.000000   \n",
       "50%    8.477840e+05          1.000000                     0.000000   \n",
       "75%    1.269562e+06          1.000000                     1.000000   \n",
       "max    1.689744e+06          1.000000                     1.000000   \n",
       "\n",
       "       subscription_age      bill_avg  reamining_contract  \\\n",
       "count      72274.000000  72274.000000        50702.000000   \n",
       "mean           2.450051     18.942483            0.716039   \n",
       "std            2.034990     13.215386            0.697102   \n",
       "min           -0.020000      0.000000            0.000000   \n",
       "25%            0.930000     13.000000            0.000000   \n",
       "50%            1.980000     19.000000            0.570000   \n",
       "75%            3.300000     22.000000            1.310000   \n",
       "max           12.800000    406.000000            2.920000   \n",
       "\n",
       "       service_failure_count  download_avg    upload_avg  download_over_limit  \\\n",
       "count           72274.000000  71893.000000  71893.000000         72274.000000   \n",
       "mean                0.274234     43.689911      4.192076             0.207613   \n",
       "std                 0.816621     63.405963      9.818896             0.997123   \n",
       "min                 0.000000      0.000000      0.000000             0.000000   \n",
       "25%                 0.000000      6.700000      0.500000             0.000000   \n",
       "50%                 0.000000     27.800000      2.100000             0.000000   \n",
       "75%                 0.000000     60.500000      4.800000             0.000000   \n",
       "max                19.000000   4415.200000    453.300000             7.000000   \n",
       "\n",
       "              churn  \n",
       "count  72274.000000  \n",
       "mean       0.554141  \n",
       "std        0.497064  \n",
       "min        0.000000  \n",
       "25%        0.000000  \n",
       "50%        1.000000  \n",
       "75%        1.000000  \n",
       "max        1.000000  "
      ]
     },
     "execution_count": 66,
     "metadata": {},
     "output_type": "execute_result"
    }
   ],
   "source": [
    "data.describe()"
   ]
  },
  {
   "cell_type": "code",
   "execution_count": 67,
   "metadata": {
    "ExecuteTime": {
     "end_time": "2023-01-09T03:26:56.568781Z",
     "start_time": "2023-01-09T03:26:51.070670Z"
    },
    "scrolled": false
   },
   "outputs": [
    {
     "data": {
      "image/png": "[encoded data removed]",
      "text/plain": [
       "<Figure size 1152x864 with 12 Axes>"
      ]
     },
     "metadata": {},
     "output_type": "display_data"
    }
   ],
   "source": [
    "data.hist(bins = 50,figsize = (16,12))\n",
    "plt.show()"
   ]
  },
  {
   "cell_type": "markdown",
   "metadata": {
    "ExecuteTime": {
     "end_time": "2023-01-08T05:36:35.897944Z",
     "start_time": "2023-01-08T05:36:35.720690Z"
    }
   },
   "source": [
    "#### 发现2"
   ]
  },
  {
   "cell_type": "markdown",
   "metadata": {},
   "source": [
    "1. 着重需要<span class=\"girk\">bill_avg</span>、<span class=\"girk\">service_failure_count</span>、<span class=\"girk\">download_avg</span>、<span class=\"girk\">upload_avg</span>注意，<span class=\"pirk\">他们在特征进行标准化之前，需先进行log化处理</span>。\n",
    "2. 目标变量<span class=\"girk\">churn不存在极度有偏的</span>情况，对我们建模来说，是相对不错的消息。"
   ]
  },
  {
   "cell_type": "markdown",
   "metadata": {},
   "source": [
    "## 相关性"
   ]
  },
  {
   "cell_type": "code",
   "execution_count": 68,
   "metadata": {
    "ExecuteTime": {
     "end_time": "2023-01-09T03:26:59.960942Z",
     "start_time": "2023-01-09T03:26:56.572770Z"
    },
    "scrolled": false
   },
   "outputs": [
    {
     "data": {
      "image/png": "[encoded data removed]",
      "text/plain": [
       "<Figure size 864x576 with 2 Axes>"
      ]
     },
     "metadata": {},
     "output_type": "display_data"
    }
   ],
   "source": [
    "plt.figure(figsize = (12,8))\n",
    "mask = np.array(data.corr())\n",
    "mask[np.tril_indices_from(mask)] = False\n",
    "sns.heatmap(data = data.corr(),mask=mask,vmax=0.8,annot=True)\n",
    "plt.show()"
   ]
  },
  {
   "cell_type": "markdown",
   "metadata": {
    "ExecuteTime": {
     "end_time": "2023-01-08T11:19:42.153410Z",
     "start_time": "2023-01-08T10:04:01.808838Z"
    }
   },
   "source": [
    "### 结论1"
   ]
  },
  {
   "cell_type": "markdown",
   "metadata": {},
   "source": [
    "* 目标变量churn和自变量的相关性:\n",
    "    - <span class=\"girk\">remaining_contract</span>与churn呈现出<span class=\"girk\">中等强度的</span><span class=\"girk\">负相关性</span>，从业务上来说客户合同所剩年限越长，客户流失的可能性就越低。\n",
    "    - <span class=\"girk\">is_tv_subscriber</span>、<span class=\"girk\">is_movie_package_subscriber</span>、<span class=\"girk\">download_avg</span>和churn呈现<span class=\"girk\">弱负相关性</span>。从业务上来说，有订阅的客户比没有订阅的客户流失的可能性降低；下载量大的客户比下载量小的客户流失的可能性降低。\n",
    "* 自变量之间的相关性:\n",
    "    - <span class=\"girk\">is_tv_subscriber</span>和<span class=\"girk\">is_movie_package_subscriber</span>之间存在<span class=\"girk\">弱正相关性</span>。从业务上来说意味订阅A的人有较大的可能订阅B，反之亦然。\n",
    "    - <span class=\"girk\">is_movie_package_subscriber</span>和<span class=\"girk\">remaining_contract</span>之间存在<span class=\"girk\">弱正相关性</span>。从业务上来说，可能是剩余合同时限更长的人更可能订阅电影套餐，也可能是订阅电影套餐后完成了签约行为。\n",
    "    - <span class=\"girk\">bill_avg和download_avg</span><span class=\"girk\">以及upload_avg存在弱正相关性</span>。从业务上来说的合理推测是，上传内容或下载内容很可能都是需要付费的。\n",
    "    - <span class=\"girk\">download_avg</span>和<span class=\"girk\">upload_avg</span>呈现<span class=\"girk\">中等程度的正相关</span>。从业务上来说，可能是下载量更高的客户更可能拥有较高的上传量，也可能是上传量更高的客户更可能拥有较高的下载量。\n",
    "    - 以上内容，考虑其相关性系数不大，<span class=\"pirk\">存在多重共线性的可能性不大，在建模时均可保留</span>。"
   ]
  },
  {
   "cell_type": "markdown",
   "metadata": {},
   "source": [
    "# 数据清洗及预处理"
   ]
  },
  {
   "cell_type": "markdown",
   "metadata": {},
   "source": [
    "## 缺失值处理"
   ]
  },
  {
   "cell_type": "markdown",
   "metadata": {},
   "source": [
    "先处理download_avg和upload_avg，由于从数据分布图上获取到的这两个特征的分布极度不均匀，并且空值行数占总比重较小，故不采用中位数填充的方法，直接删除空值行。"
   ]
  },
  {
   "cell_type": "code",
   "execution_count": 69,
   "metadata": {
    "ExecuteTime": {
     "end_time": "2023-01-09T03:27:00.008813Z",
     "start_time": "2023-01-09T03:26:59.964929Z"
    },
    "scrolled": true
   },
   "outputs": [
    {
     "name": "stdout",
     "output_type": "stream",
     "text": [
      "<class 'pandas.core.frame.DataFrame'>\n",
      "Int64Index: 71893 entries, 0 to 72273\n",
      "Data columns (total 11 columns):\n",
      " #   Column                       Non-Null Count  Dtype  \n",
      "---  ------                       --------------  -----  \n",
      " 0   id                           71893 non-null  int64  \n",
      " 1   is_tv_subscriber             71893 non-null  int64  \n",
      " 2   is_movie_package_subscriber  71893 non-null  int64  \n",
      " 3   subscription_age             71893 non-null  float64\n",
      " 4   bill_avg                     71893 non-null  int64  \n",
      " 5   reamining_contract           50375 non-null  float64\n",
      " 6   service_failure_count        71893 non-null  int64  \n",
      " 7   download_avg                 71893 non-null  float64\n",
      " 8   upload_avg                   71893 non-null  float64\n",
      " 9   download_over_limit          71893 non-null  int64  \n",
      " 10  churn                        71893 non-null  int64  \n",
      "dtypes: float64(4), int64(7)\n",
      "memory usage: 6.6 MB\n"
     ]
    }
   ],
   "source": [
    "data.dropna(subset = ['download_avg','upload_avg'],axis = 0,how = 'any',inplace = True)\n",
    "data.info(show_counts = True)"
   ]
  },
  {
   "cell_type": "markdown",
   "metadata": {},
   "source": [
    "处理reamining_contract，用0.00替代空值后，为避免与已经签订合同后所剩年限为0.00的值相同，故增加一列is_contract，reamining_contract为空值对应的值为0，反之为1。"
   ]
  },
  {
   "cell_type": "code",
   "execution_count": 70,
   "metadata": {
    "ExecuteTime": {
     "end_time": "2023-01-09T03:27:00.382213Z",
     "start_time": "2023-01-09T03:27:00.024842Z"
    }
   },
   "outputs": [
    {
     "data": {
      "text/html": [
       "<div>\n",
       "<style scoped>\n",
       "    .dataframe tbody tr th:only-of-type {\n",
       "        vertical-align: middle;\n",
       "    }\n",
       "\n",
       "    .dataframe tbody tr th {\n",
       "        vertical-align: top;\n",
       "    }\n",
       "\n",
       "    .dataframe thead th {\n",
       "        text-align: right;\n",
       "    }\n",
       "</style>\n",
       "<table border=\"1\" class=\"dataframe\">\n",
       "  <thead>\n",
       "    <tr style=\"text-align: right;\">\n",
       "      <th></th>\n",
       "      <th>id</th>\n",
       "      <th>is_tv_subscriber</th>\n",
       "      <th>is_movie_package_subscriber</th>\n",
       "      <th>subscription_age</th>\n",
       "      <th>bill_avg</th>\n",
       "      <th>reamining_contract</th>\n",
       "      <th>service_failure_count</th>\n",
       "      <th>download_avg</th>\n",
       "      <th>upload_avg</th>\n",
       "      <th>download_over_limit</th>\n",
       "      <th>churn</th>\n",
       "      <th>is_contract</th>\n",
       "    </tr>\n",
       "  </thead>\n",
       "  <tbody>\n",
       "    <tr>\n",
       "      <th>0</th>\n",
       "      <td>15</td>\n",
       "      <td>1</td>\n",
       "      <td>0</td>\n",
       "      <td>11.95</td>\n",
       "      <td>25</td>\n",
       "      <td>0.14</td>\n",
       "      <td>0</td>\n",
       "      <td>8.4</td>\n",
       "      <td>2.3</td>\n",
       "      <td>0</td>\n",
       "      <td>0</td>\n",
       "      <td>1.0</td>\n",
       "    </tr>\n",
       "    <tr>\n",
       "      <th>1</th>\n",
       "      <td>18</td>\n",
       "      <td>0</td>\n",
       "      <td>0</td>\n",
       "      <td>8.22</td>\n",
       "      <td>0</td>\n",
       "      <td>0.00</td>\n",
       "      <td>0</td>\n",
       "      <td>0.0</td>\n",
       "      <td>0.0</td>\n",
       "      <td>0</td>\n",
       "      <td>1</td>\n",
       "      <td>0.0</td>\n",
       "    </tr>\n",
       "    <tr>\n",
       "      <th>2</th>\n",
       "      <td>23</td>\n",
       "      <td>1</td>\n",
       "      <td>0</td>\n",
       "      <td>8.91</td>\n",
       "      <td>16</td>\n",
       "      <td>0.00</td>\n",
       "      <td>0</td>\n",
       "      <td>13.7</td>\n",
       "      <td>0.9</td>\n",
       "      <td>0</td>\n",
       "      <td>1</td>\n",
       "      <td>1.0</td>\n",
       "    </tr>\n",
       "    <tr>\n",
       "      <th>3</th>\n",
       "      <td>27</td>\n",
       "      <td>0</td>\n",
       "      <td>0</td>\n",
       "      <td>6.87</td>\n",
       "      <td>21</td>\n",
       "      <td>0.00</td>\n",
       "      <td>1</td>\n",
       "      <td>0.0</td>\n",
       "      <td>0.0</td>\n",
       "      <td>0</td>\n",
       "      <td>1</td>\n",
       "      <td>0.0</td>\n",
       "    </tr>\n",
       "    <tr>\n",
       "      <th>4</th>\n",
       "      <td>34</td>\n",
       "      <td>0</td>\n",
       "      <td>0</td>\n",
       "      <td>6.39</td>\n",
       "      <td>0</td>\n",
       "      <td>0.00</td>\n",
       "      <td>0</td>\n",
       "      <td>0.0</td>\n",
       "      <td>0.0</td>\n",
       "      <td>0</td>\n",
       "      <td>1</td>\n",
       "      <td>0.0</td>\n",
       "    </tr>\n",
       "  </tbody>\n",
       "</table>\n",
       "</div>"
      ],
      "text/plain": [
       "   id  is_tv_subscriber  is_movie_package_subscriber  subscription_age  \\\n",
       "0  15                 1                            0             11.95   \n",
       "1  18                 0                            0              8.22   \n",
       "2  23                 1                            0              8.91   \n",
       "3  27                 0                            0              6.87   \n",
       "4  34                 0                            0              6.39   \n",
       "\n",
       "   bill_avg  reamining_contract  service_failure_count  download_avg  \\\n",
       "0        25                0.14                      0           8.4   \n",
       "1         0                0.00                      0           0.0   \n",
       "2        16                0.00                      0          13.7   \n",
       "3        21                0.00                      1           0.0   \n",
       "4         0                0.00                      0           0.0   \n",
       "\n",
       "   upload_avg  download_over_limit  churn  is_contract  \n",
       "0         2.3                    0      0          1.0  \n",
       "1         0.0                    0      1          0.0  \n",
       "2         0.9                    0      1          1.0  \n",
       "3         0.0                    0      1          0.0  \n",
       "4         0.0                    0      1          0.0  "
      ]
     },
     "execution_count": 70,
     "metadata": {},
     "output_type": "execute_result"
    }
   ],
   "source": [
    "# 获取reamining_contract非空值所在行的index\n",
    "reamining_contract_nan_index = data.dropna(subset = 'reamining_contract',axis = 0,how = 'any').index\n",
    "# 创建对应的is_contract特征（0/1）\n",
    "is_contract = np.ones((len(data),1))\n",
    "for index,values in enumerate(is_contract):\n",
    "    if index not in reamining_contract_nan_index:\n",
    "        is_contract[index] = 0\n",
    "data['is_contract'] = is_contract\n",
    "# 将reamining_contract空值替换为0.00\n",
    "data.fillna(0.00,inplace = True)\n",
    "data.head()"
   ]
  },
  {
   "cell_type": "markdown",
   "metadata": {},
   "source": [
    "## 根据数据类型划分数据集"
   ]
  },
  {
   "cell_type": "code",
   "execution_count": 73,
   "metadata": {
    "ExecuteTime": {
     "end_time": "2023-01-09T03:34:48.322292Z",
     "start_time": "2023-01-09T03:34:48.299357Z"
    }
   },
   "outputs": [],
   "source": [
    "# 数值型特征对应自变量数据集\n",
    "c_num = list(data.columns)[3:-2]\n",
    "data_num = data[c_num]\n",
    "# 类别型特征对应自变量数据集\n",
    "c_object = ['is_tv_subscriber','is_movie_package_subscriber','is_contract']\n",
    "data_object = data[c_object]"
   ]
  },
  {
   "cell_type": "markdown",
   "metadata": {},
   "source": [
    "上一单元格侧操作隐含了删除id列。"
   ]
  },
  {
   "cell_type": "code",
   "execution_count": 82,
   "metadata": {
    "ExecuteTime": {
     "end_time": "2023-01-09T04:13:03.409048Z",
     "start_time": "2023-01-09T04:13:03.391100Z"
    }
   },
   "outputs": [],
   "source": [
    "# 因变量数据集\n",
    "data_target = data[['churn']]"
   ]
  },
  {
   "cell_type": "markdown",
   "metadata": {},
   "source": [
    "## 类别型特征独热编码处理"
   ]
  },
  {
   "cell_type": "markdown",
   "metadata": {},
   "source": [
    "考虑到自变量中的三个类别特征均为二分类的情况，先不进行独热编码拆分特征，依据模型性能选择是否增加特征。"
   ]
  },
  {
   "cell_type": "markdown",
   "metadata": {},
   "source": [
    "## 合并各类型数据生成新的数据集"
   ]
  },
  {
   "cell_type": "markdown",
   "metadata": {
    "ExecuteTime": {
     "end_time": "2023-01-09T03:53:34.331282Z",
     "start_time": "2023-01-09T03:53:34.316325Z"
    }
   },
   "source": [
    "由于目前4.3未进行特征独热编码处理，故直接使用之前的数据集data。"
   ]
  },
  {
   "cell_type": "markdown",
   "metadata": {},
   "source": [
    "## 数据log化"
   ]
  },
  {
   "cell_type": "markdown",
   "metadata": {},
   "source": [
    "### log化前后数据分布可视化对比"
   ]
  },
  {
   "cell_type": "code",
   "execution_count": 86,
   "metadata": {
    "ExecuteTime": {
     "end_time": "2023-01-09T04:23:01.138429Z",
     "start_time": "2023-01-09T04:23:01.121473Z"
    }
   },
   "outputs": [],
   "source": [
    "def hist_log(df,col_name,bins = 50,figsize = (12,6),increment = 0.01):\n",
    "    '''\n",
    "    原始分布可视化和数据log化后的可视化对比图\n",
    "    Args:\n",
    "        df:pd.DataFrame\n",
    "        col_name:特征名\n",
    "        increment:为防止0值不能log化，故所有值增加一个常量\n",
    "    Returns:\n",
    "        对比图\n",
    "    '''\n",
    "    plt.figure(figsize=figsize)\n",
    "    \n",
    "    plt.subplot(121)\n",
    "    plt.hist(x = df[col_name],bins = bins)\n",
    "    plt.title(col_name+'原始分布')\n",
    "    \n",
    "    plt.subplot(122)\n",
    "    plt.hist(x = np.log(df[col_name]+increment),bins = bins)\n",
    "    plt.title(col_name+'log化后分布')\n",
    "    plt.show()"
   ]
  },
  {
   "cell_type": "code",
   "execution_count": 87,
   "metadata": {
    "ExecuteTime": {
     "end_time": "2023-01-09T04:23:04.289922Z",
     "start_time": "2023-01-09T04:23:03.101317Z"
    },
    "scrolled": false
   },
   "outputs": [
    {
     "data": {
      "image/png": "[encoded data removed]",
      "text/plain": [
       "<Figure size 864x432 with 2 Axes>"
      ]
     },
     "metadata": {},
     "output_type": "display_data"
    }
   ],
   "source": [
    "hist_log(data,'bill_avg')"
   ]
  },
  {
   "cell_type": "code",
   "execution_count": 88,
   "metadata": {
    "ExecuteTime": {
     "end_time": "2023-01-09T04:23:51.722889Z",
     "start_time": "2023-01-09T04:23:50.615734Z"
    },
    "scrolled": false
   },
   "outputs": [
    {
     "data": {
      "image/png": "[encoded data removed]",
      "text/plain": [
       "<Figure size 864x432 with 2 Axes>"
      ]
     },
     "metadata": {},
     "output_type": "display_data"
    }
   ],
   "source": [
    "hist_log(data,'service_failure_count')"
   ]
  },
  {
   "cell_type": "code",
   "execution_count": 89,
   "metadata": {
    "ExecuteTime": {
     "end_time": "2023-01-09T04:24:52.044174Z",
     "start_time": "2023-01-09T04:24:51.038121Z"
    }
   },
   "outputs": [
    {
     "data": {
      "image/png": "[encoded data removed]",
      "text/plain": [
       "<Figure size 864x432 with 2 Axes>"
      ]
     },
     "metadata": {},
     "output_type": "display_data"
    }
   ],
   "source": [
    "hist_log(data,'download_avg')"
   ]
  },
  {
   "cell_type": "code",
   "execution_count": 90,
   "metadata": {
    "ExecuteTime": {
     "end_time": "2023-01-09T04:25:33.778181Z",
     "start_time": "2023-01-09T04:25:32.783358Z"
    },
    "scrolled": false
   },
   "outputs": [
    {
     "data": {
      "image/png": "[encoded data removed]",
      "text/plain": [
       "<Figure size 864x432 with 2 Axes>"
      ]
     },
     "metadata": {},
     "output_type": "display_data"
    }
   ],
   "source": [
    "hist_log(data,'upload_avg')"
   ]
  },
  {
   "cell_type": "markdown",
   "metadata": {},
   "source": [
    "### 数据log化处理"
   ]
  },
  {
   "cell_type": "code",
   "execution_count": 91,
   "metadata": {
    "ExecuteTime": {
     "end_time": "2023-01-09T04:33:31.884815Z",
     "start_time": "2023-01-09T04:33:31.847914Z"
    }
   },
   "outputs": [],
   "source": [
    "# 用log化后的值代替原始值\n",
    "data['bill_avg'] = np.log(data.bill_avg+0.01)\n",
    "data['service_failure_count'] = np.log(data.service_failure_count+0.01)\n",
    "data['download_avg'] = np.log(data.download_avg+0.01)\n",
    "data['upload_avg'] = np.log(data.upload_avg+0.01)"
   ]
  },
  {
   "cell_type": "markdown",
   "metadata": {},
   "source": [
    "## 拆分训练集和测试集"
   ]
  },
  {
   "cell_type": "code",
   "execution_count": 92,
   "metadata": {
    "ExecuteTime": {
     "end_time": "2023-01-09T04:33:52.764842Z",
     "start_time": "2023-01-09T04:33:52.690042Z"
    }
   },
   "outputs": [],
   "source": [
    "from sklearn.model_selection import train_test_split\n",
    "# 自变量特征列表\n",
    "c_independent_variable = list(data.columns)[1:10]+['is_contract']\n",
    "# 因变量特征列表\n",
    "c_dependent_variable = ['churn']\n",
    "\n",
    "# 切分训练集和测试集\n",
    "X,X_test,y,y_test = train_test_split(data[c_independent_variable],\n",
    "                                    data[c_dependent_variable],\n",
    "                                    test_size = 0.3,\n",
    "                                    random_state = 42)\n",
    "# 重置训练集和测试集的索引index\n",
    "X.reset_index(drop = True,inplace = True)\n",
    "X_test.reset_index(drop = True,inplace = True)\n",
    "y = y.reset_index(drop = True)\n",
    "y_test = y_test.reset_index(drop = True)"
   ]
  },
  {
   "cell_type": "code",
   "execution_count": 97,
   "metadata": {
    "ExecuteTime": {
     "end_time": "2023-01-09T06:06:31.018214Z",
     "start_time": "2023-01-09T06:06:31.009238Z"
    }
   },
   "outputs": [
    {
     "data": {
      "text/plain": [
       "(50325, 10)"
      ]
     },
     "execution_count": 97,
     "metadata": {},
     "output_type": "execute_result"
    }
   ],
   "source": [
    "X.shape"
   ]
  },
  {
   "cell_type": "markdown",
   "metadata": {},
   "source": [
    "## 训练集数值型特征标准化"
   ]
  },
  {
   "cell_type": "code",
   "execution_count": 96,
   "metadata": {
    "ExecuteTime": {
     "end_time": "2023-01-09T06:06:03.404197Z",
     "start_time": "2023-01-09T06:06:03.321357Z"
    }
   },
   "outputs": [
    {
     "data": {
      "text/html": [
       "<div>\n",
       "<style scoped>\n",
       "    .dataframe tbody tr th:only-of-type {\n",
       "        vertical-align: middle;\n",
       "    }\n",
       "\n",
       "    .dataframe tbody tr th {\n",
       "        vertical-align: top;\n",
       "    }\n",
       "\n",
       "    .dataframe thead th {\n",
       "        text-align: right;\n",
       "    }\n",
       "</style>\n",
       "<table border=\"1\" class=\"dataframe\">\n",
       "  <thead>\n",
       "    <tr style=\"text-align: right;\">\n",
       "      <th></th>\n",
       "      <th>subscription_age</th>\n",
       "      <th>bill_avg</th>\n",
       "      <th>reamining_contract</th>\n",
       "      <th>service_failure_count</th>\n",
       "      <th>download_avg</th>\n",
       "      <th>upload_avg</th>\n",
       "      <th>download_over_limit</th>\n",
       "      <th>is_tv_subscriber</th>\n",
       "      <th>is_movie_package_subscriber</th>\n",
       "      <th>is_contract</th>\n",
       "    </tr>\n",
       "  </thead>\n",
       "  <tbody>\n",
       "    <tr>\n",
       "      <th>0</th>\n",
       "      <td>1.658963</td>\n",
       "      <td>-0.046954</td>\n",
       "      <td>-0.750542</td>\n",
       "      <td>2.051446</td>\n",
       "      <td>-2.195039</td>\n",
       "      <td>-2.005027</td>\n",
       "      <td>-0.207563</td>\n",
       "      <td>1</td>\n",
       "      <td>0</td>\n",
       "      <td>1.0</td>\n",
       "    </tr>\n",
       "    <tr>\n",
       "      <th>1</th>\n",
       "      <td>0.063254</td>\n",
       "      <td>0.161275</td>\n",
       "      <td>1.230296</td>\n",
       "      <td>-0.442440</td>\n",
       "      <td>1.032308</td>\n",
       "      <td>1.185146</td>\n",
       "      <td>-0.207563</td>\n",
       "      <td>1</td>\n",
       "      <td>1</td>\n",
       "      <td>1.0</td>\n",
       "    </tr>\n",
       "    <tr>\n",
       "      <th>2</th>\n",
       "      <td>-0.751785</td>\n",
       "      <td>0.087777</td>\n",
       "      <td>0.810118</td>\n",
       "      <td>-0.442440</td>\n",
       "      <td>0.304134</td>\n",
       "      <td>0.070279</td>\n",
       "      <td>-0.207563</td>\n",
       "      <td>1</td>\n",
       "      <td>0</td>\n",
       "      <td>1.0</td>\n",
       "    </tr>\n",
       "    <tr>\n",
       "      <th>3</th>\n",
       "      <td>-1.159304</td>\n",
       "      <td>-0.101050</td>\n",
       "      <td>-0.735536</td>\n",
       "      <td>-0.442440</td>\n",
       "      <td>-2.195039</td>\n",
       "      <td>-2.005027</td>\n",
       "      <td>-0.207563</td>\n",
       "      <td>1</td>\n",
       "      <td>0</td>\n",
       "      <td>1.0</td>\n",
       "    </tr>\n",
       "    <tr>\n",
       "      <th>4</th>\n",
       "      <td>-0.241158</td>\n",
       "      <td>0.334116</td>\n",
       "      <td>-0.750542</td>\n",
       "      <td>2.423322</td>\n",
       "      <td>0.613268</td>\n",
       "      <td>0.784948</td>\n",
       "      <td>-0.207563</td>\n",
       "      <td>1</td>\n",
       "      <td>0</td>\n",
       "      <td>1.0</td>\n",
       "    </tr>\n",
       "    <tr>\n",
       "      <th>...</th>\n",
       "      <td>...</td>\n",
       "      <td>...</td>\n",
       "      <td>...</td>\n",
       "      <td>...</td>\n",
       "      <td>...</td>\n",
       "      <td>...</td>\n",
       "      <td>...</td>\n",
       "      <td>...</td>\n",
       "      <td>...</td>\n",
       "      <td>...</td>\n",
       "    </tr>\n",
       "    <tr>\n",
       "      <th>50320</th>\n",
       "      <td>-0.722325</td>\n",
       "      <td>0.443842</td>\n",
       "      <td>-0.750542</td>\n",
       "      <td>2.423322</td>\n",
       "      <td>0.527404</td>\n",
       "      <td>0.419206</td>\n",
       "      <td>-0.207563</td>\n",
       "      <td>0</td>\n",
       "      <td>0</td>\n",
       "      <td>1.0</td>\n",
       "    </tr>\n",
       "    <tr>\n",
       "      <th>50321</th>\n",
       "      <td>-0.570119</td>\n",
       "      <td>0.046670</td>\n",
       "      <td>-0.750542</td>\n",
       "      <td>-0.442440</td>\n",
       "      <td>-2.195039</td>\n",
       "      <td>-2.005027</td>\n",
       "      <td>-0.207563</td>\n",
       "      <td>0</td>\n",
       "      <td>0</td>\n",
       "      <td>1.0</td>\n",
       "    </tr>\n",
       "    <tr>\n",
       "      <th>50322</th>\n",
       "      <td>-0.437553</td>\n",
       "      <td>0.334116</td>\n",
       "      <td>-0.210314</td>\n",
       "      <td>-0.442440</td>\n",
       "      <td>0.595329</td>\n",
       "      <td>0.882743</td>\n",
       "      <td>-0.207563</td>\n",
       "      <td>1</td>\n",
       "      <td>0</td>\n",
       "      <td>1.0</td>\n",
       "    </tr>\n",
       "    <tr>\n",
       "      <th>50323</th>\n",
       "      <td>0.524782</td>\n",
       "      <td>-3.597902</td>\n",
       "      <td>-0.750542</td>\n",
       "      <td>-0.442440</td>\n",
       "      <td>-2.195039</td>\n",
       "      <td>-2.005027</td>\n",
       "      <td>-0.207563</td>\n",
       "      <td>0</td>\n",
       "      <td>0</td>\n",
       "      <td>1.0</td>\n",
       "    </tr>\n",
       "    <tr>\n",
       "      <th>50324</th>\n",
       "      <td>1.153246</td>\n",
       "      <td>0.481917</td>\n",
       "      <td>-0.750542</td>\n",
       "      <td>-0.442440</td>\n",
       "      <td>0.286120</td>\n",
       "      <td>-0.103395</td>\n",
       "      <td>-0.207563</td>\n",
       "      <td>1</td>\n",
       "      <td>0</td>\n",
       "      <td>1.0</td>\n",
       "    </tr>\n",
       "  </tbody>\n",
       "</table>\n",
       "<p>50325 rows × 10 columns</p>\n",
       "</div>"
      ],
      "text/plain": [
       "       subscription_age  bill_avg  reamining_contract  service_failure_count  \\\n",
       "0              1.658963 -0.046954           -0.750542               2.051446   \n",
       "1              0.063254  0.161275            1.230296              -0.442440   \n",
       "2             -0.751785  0.087777            0.810118              -0.442440   \n",
       "3             -1.159304 -0.101050           -0.735536              -0.442440   \n",
       "4             -0.241158  0.334116           -0.750542               2.423322   \n",
       "...                 ...       ...                 ...                    ...   \n",
       "50320         -0.722325  0.443842           -0.750542               2.423322   \n",
       "50321         -0.570119  0.046670           -0.750542              -0.442440   \n",
       "50322         -0.437553  0.334116           -0.210314              -0.442440   \n",
       "50323          0.524782 -3.597902           -0.750542              -0.442440   \n",
       "50324          1.153246  0.481917           -0.750542              -0.442440   \n",
       "\n",
       "       download_avg  upload_avg  download_over_limit  is_tv_subscriber  \\\n",
       "0         -2.195039   -2.005027            -0.207563                 1   \n",
       "1          1.032308    1.185146            -0.207563                 1   \n",
       "2          0.304134    0.070279            -0.207563                 1   \n",
       "3         -2.195039   -2.005027            -0.207563                 1   \n",
       "4          0.613268    0.784948            -0.207563                 1   \n",
       "...             ...         ...                  ...               ...   \n",
       "50320      0.527404    0.419206            -0.207563                 0   \n",
       "50321     -2.195039   -2.005027            -0.207563                 0   \n",
       "50322      0.595329    0.882743            -0.207563                 1   \n",
       "50323     -2.195039   -2.005027            -0.207563                 0   \n",
       "50324      0.286120   -0.103395            -0.207563                 1   \n",
       "\n",
       "       is_movie_package_subscriber  is_contract  \n",
       "0                                0          1.0  \n",
       "1                                1          1.0  \n",
       "2                                0          1.0  \n",
       "3                                0          1.0  \n",
       "4                                0          1.0  \n",
       "...                            ...          ...  \n",
       "50320                            0          1.0  \n",
       "50321                            0          1.0  \n",
       "50322                            0          1.0  \n",
       "50323                            0          1.0  \n",
       "50324                            0          1.0  \n",
       "\n",
       "[50325 rows x 10 columns]"
      ]
     },
     "execution_count": 96,
     "metadata": {},
     "output_type": "execute_result"
    }
   ],
   "source": [
    "from sklearn.preprocessing import StandardScaler\n",
    "ss = StandardScaler()\n",
    "ss.fit(X[c_num])\n",
    "X_c_num = pd.DataFrame(ss.transform(X[c_num]),columns = c_num)\n",
    "X_tr = pd.concat([X_c_num,X[c_object]],axis = 1)\n",
    "X_tr"
   ]
  },
  {
   "cell_type": "markdown",
   "metadata": {},
   "source": [
    "# 训练模型"
   ]
  },
  {
   "cell_type": "markdown",
   "metadata": {},
   "source": [
    "## 逻辑回归"
   ]
  },
  {
   "cell_type": "markdown",
   "metadata": {},
   "source": [
    "### 创建估计器"
   ]
  },
  {
   "cell_type": "code",
   "execution_count": 107,
   "metadata": {
    "ExecuteTime": {
     "end_time": "2023-01-09T06:38:41.090238Z",
     "start_time": "2023-01-09T06:38:40.905943Z"
    }
   },
   "outputs": [
    {
     "data": {
      "text/html": [
       "<style>#sk-container-id-2 {color: black;background-color: white;}#sk-container-id-2 pre{padding: 0;}#sk-container-id-2 div.sk-toggleable {background-color: white;}#sk-container-id-2 label.sk-toggleable__label {cursor: pointer;display: block;width: 100%;margin-bottom: 0;padding: 0.3em;box-sizing: border-box;text-align: center;}#sk-container-id-2 label.sk-toggleable__label-arrow:before {content: \"▸\";float: left;margin-right: 0.25em;color: #696969;}#sk-container-id-2 label.sk-toggleable__label-arrow:hover:before {color: black;}#sk-container-id-2 div.sk-estimator:hover label.sk-toggleable__label-arrow:before {color: black;}#sk-container-id-2 div.sk-toggleable__content {max-height: 0;max-width: 0;overflow: hidden;text-align: left;background-color: #f0f8ff;}#sk-container-id-2 div.sk-toggleable__content pre {margin: 0.2em;color: black;border-radius: 0.25em;background-color: #f0f8ff;}#sk-container-id-2 input.sk-toggleable__control:checked~div.sk-toggleable__content {max-height: 200px;max-width: 100%;overflow: auto;}#sk-container-id-2 input.sk-toggleable__control:checked~label.sk-toggleable__label-arrow:before {content: \"▾\";}#sk-container-id-2 div.sk-estimator input.sk-toggleable__control:checked~label.sk-toggleable__label {background-color: #d4ebff;}#sk-container-id-2 div.sk-label input.sk-toggleable__control:checked~label.sk-toggleable__label {background-color: #d4ebff;}#sk-container-id-2 input.sk-hidden--visually {border: 0;clip: rect(1px 1px 1px 1px);clip: rect(1px, 1px, 1px, 1px);height: 1px;margin: -1px;overflow: hidden;padding: 0;position: absolute;width: 1px;}#sk-container-id-2 div.sk-estimator {font-family: monospace;background-color: #f0f8ff;border: 1px dotted black;border-radius: 0.25em;box-sizing: border-box;margin-bottom: 0.5em;}#sk-container-id-2 div.sk-estimator:hover {background-color: #d4ebff;}#sk-container-id-2 div.sk-parallel-item::after {content: \"\";width: 100%;border-bottom: 1px solid gray;flex-grow: 1;}#sk-container-id-2 div.sk-label:hover label.sk-toggleable__label {background-color: #d4ebff;}#sk-container-id-2 div.sk-serial::before {content: \"\";position: absolute;border-left: 1px solid gray;box-sizing: border-box;top: 0;bottom: 0;left: 50%;z-index: 0;}#sk-container-id-2 div.sk-serial {display: flex;flex-direction: column;align-items: center;background-color: white;padding-right: 0.2em;padding-left: 0.2em;position: relative;}#sk-container-id-2 div.sk-item {position: relative;z-index: 1;}#sk-container-id-2 div.sk-parallel {display: flex;align-items: stretch;justify-content: center;background-color: white;position: relative;}#sk-container-id-2 div.sk-item::before, #sk-container-id-2 div.sk-parallel-item::before {content: \"\";position: absolute;border-left: 1px solid gray;box-sizing: border-box;top: 0;bottom: 0;left: 50%;z-index: -1;}#sk-container-id-2 div.sk-parallel-item {display: flex;flex-direction: column;z-index: 1;position: relative;background-color: white;}#sk-container-id-2 div.sk-parallel-item:first-child::after {align-self: flex-end;width: 50%;}#sk-container-id-2 div.sk-parallel-item:last-child::after {align-self: flex-start;width: 50%;}#sk-container-id-2 div.sk-parallel-item:only-child::after {width: 0;}#sk-container-id-2 div.sk-dashed-wrapped {border: 1px dashed gray;margin: 0 0.4em 0.5em 0.4em;box-sizing: border-box;padding-bottom: 0.4em;background-color: white;}#sk-container-id-2 div.sk-label label {font-family: monospace;font-weight: bold;display: inline-block;line-height: 1.2em;}#sk-container-id-2 div.sk-label-container {text-align: center;}#sk-container-id-2 div.sk-container {/* jupyter's `normalize.less` sets `[hidden] { display: none; }` but bootstrap.min.css set `[hidden] { display: none !important; }` so we also need the `!important` here to be able to override the default hidden behavior on the sphinx rendered scikit-learn.org. See: https://github.com/scikit-learn/scikit-learn/issues/21755 */display: inline-block !important;position: relative;}#sk-container-id-2 div.sk-text-repr-fallback {display: none;}</style><div id=\"sk-container-id-2\" class=\"sk-top-container\"><div class=\"sk-text-repr-fallback\"><pre>LogisticRegression()</pre><b>In a Jupyter environment, please rerun this cell to show the HTML representation or trust the notebook. <br />On GitHub, the HTML representation is unable to render, please try loading this page with nbviewer.org.</b></div><div class=\"sk-container\" hidden><div class=\"sk-item\"><div class=\"sk-estimator sk-toggleable\"><input class=\"sk-toggleable__control sk-hidden--visually\" id=\"sk-estimator-id-2\" type=\"checkbox\" checked><label for=\"sk-estimator-id-2\" class=\"sk-toggleable__label sk-toggleable__label-arrow\">LogisticRegression</label><div class=\"sk-toggleable__content\"><pre>LogisticRegression()</pre></div></div></div></div></div>"
      ],
      "text/plain": [
       "LogisticRegression()"
      ]
     },
     "execution_count": 107,
     "metadata": {},
     "output_type": "execute_result"
    }
   ],
   "source": [
    "from sklearn.linear_model import LogisticRegression\n",
    "lr = LogisticRegression()\n",
    "lr.fit(X_tr,y)"
   ]
  },
  {
   "cell_type": "code",
   "execution_count": 110,
   "metadata": {
    "ExecuteTime": {
     "end_time": "2023-01-09T06:39:37.538664Z",
     "start_time": "2023-01-09T06:39:37.516746Z"
    }
   },
   "outputs": [
    {
     "data": {
      "text/plain": [
       "0.8836959761549925"
      ]
     },
     "execution_count": 110,
     "metadata": {},
     "output_type": "execute_result"
    }
   ],
   "source": [
    "# 训练集R²结果\n",
    "lr.score(X_tr,y)"
   ]
  },
  {
   "cell_type": "markdown",
   "metadata": {},
   "source": [
    "### 交叉k折验证模型评估"
   ]
  },
  {
   "cell_type": "code",
   "execution_count": 111,
   "metadata": {
    "ExecuteTime": {
     "end_time": "2023-01-09T06:39:41.482214Z",
     "start_time": "2023-01-09T06:39:40.085611Z"
    }
   },
   "outputs": [],
   "source": [
    "from sklearn.model_selection import cross_val_predict\n",
    "cv_predict = cross_val_predict(lr,X_tr,y,cv = 10)"
   ]
  },
  {
   "cell_type": "code",
   "execution_count": 112,
   "metadata": {
    "ExecuteTime": {
     "end_time": "2023-01-09T06:39:44.324082Z",
     "start_time": "2023-01-09T06:39:44.076738Z"
    },
    "scrolled": true
   },
   "outputs": [
    {
     "name": "stdout",
     "output_type": "stream",
     "text": [
      "Accuracy:0.8836363636363637\n",
      "Precision:0.8742149040909862\n",
      "Recall:0.9229059890326512\n",
      "F1_score:0.8979008299044565\n",
      "              precision    recall  f1-score   support\n",
      "\n",
      "         未流失       0.90      0.83      0.86     22424\n",
      "          流失       0.87      0.92      0.90     27901\n",
      "\n",
      "    accuracy                           0.88     50325\n",
      "   macro avg       0.89      0.88      0.88     50325\n",
      "weighted avg       0.88      0.88      0.88     50325\n",
      "\n"
     ]
    }
   ],
   "source": [
    "from sklearn.metrics import accuracy_score,classification_report,f1_score,precision_score,recall_score,confusion_matrix\n",
    "print('Accuracy:{}'.format(accuracy_score(y,cv_predict)))\n",
    "print('Precision:{}'.format(precision_score(y,cv_predict)))\n",
    "print('Recall:{}'.format(recall_score(y,cv_predict)))\n",
    "print('F1_score:{}'.format(f1_score(y,cv_predict)))\n",
    "\n",
    "print(classification_report(y,cv_predict,labels = [0,1],target_names = ['未流失','流失']))"
   ]
  },
  {
   "cell_type": "markdown",
   "metadata": {},
   "source": [
    "### ROC曲线、AUC评估"
   ]
  },
  {
   "cell_type": "code",
   "execution_count": 114,
   "metadata": {
    "ExecuteTime": {
     "end_time": "2023-01-09T06:44:28.069693Z",
     "start_time": "2023-01-09T06:44:26.500549Z"
    }
   },
   "outputs": [
    {
     "name": "stdout",
     "output_type": "stream",
     "text": [
      "AUC评估值:0.9439088684223612\n"
     ]
    }
   ],
   "source": [
    "from sklearn.metrics import roc_auc_score,roc_curve\n",
    "cv_predict_prob = cross_val_predict(lr,X_tr,y.values.ravel(),cv = 10,method='predict_proba') # 返回数据集中每个样例分类为每个类的概率\n",
    "fpr,tpr,thr = roc_curve(y.values.ravel(),cv_predict_prob[:,1]) #返回值fpr:所有反例中假阳的占比array，fpr越小越好；返回值tpr:所有正例中真阳的占比array，tpr越大越好\n",
    "# 返回值thr:阈值array\n",
    "auc = roc_auc_score(y.values.ravel(),cv_predict_prob[:,1])\n",
    "print('AUC评估值:{}'.format(auc))"
   ]
  },
  {
   "cell_type": "code",
   "execution_count": 116,
   "metadata": {
    "ExecuteTime": {
     "end_time": "2023-01-09T06:47:07.846559Z",
     "start_time": "2023-01-09T06:47:07.426520Z"
    }
   },
   "outputs": [
    {
     "data": {
      "image/png": "[encoded data removed]",
      "text/plain": [
       "<Figure size 432x432 with 1 Axes>"
      ]
     },
     "metadata": {},
     "output_type": "display_data"
    }
   ],
   "source": [
    "plt.figure(figsize = (6,6))\n",
    "plt.plot(fpr,tpr)\n",
    "plt.plot(fpr,fpr)\n",
    "plt.xlabel('False Positive Rate')\n",
    "plt.ylabel('True Positive Rate')\n",
    "plt.title(u'逻辑回归交叉验证集ROC曲线')\n",
    "plt.show()"
   ]
  },
  {
   "cell_type": "markdown",
   "metadata": {
    "ExecuteTime": {
     "end_time": "2023-01-09T06:39:17.559823Z",
     "start_time": "2023-01-09T06:39:17.536884Z"
    }
   },
   "source": [
    "## 支持向量机（高斯核函数）"
   ]
  },
  {
   "cell_type": "markdown",
   "metadata": {},
   "source": [
    "### 创建估计器"
   ]
  },
  {
   "cell_type": "code",
   "execution_count": 130,
   "metadata": {
    "ExecuteTime": {
     "end_time": "2023-01-09T08:36:55.103448Z",
     "start_time": "2023-01-09T08:28:24.263972Z"
    }
   },
   "outputs": [
    {
     "data": {
      "text/html": [
       "<style>#sk-container-id-5 {color: black;background-color: white;}#sk-container-id-5 pre{padding: 0;}#sk-container-id-5 div.sk-toggleable {background-color: white;}#sk-container-id-5 label.sk-toggleable__label {cursor: pointer;display: block;width: 100%;margin-bottom: 0;padding: 0.3em;box-sizing: border-box;text-align: center;}#sk-container-id-5 label.sk-toggleable__label-arrow:before {content: \"▸\";float: left;margin-right: 0.25em;color: #696969;}#sk-container-id-5 label.sk-toggleable__label-arrow:hover:before {color: black;}#sk-container-id-5 div.sk-estimator:hover label.sk-toggleable__label-arrow:before {color: black;}#sk-container-id-5 div.sk-toggleable__content {max-height: 0;max-width: 0;overflow: hidden;text-align: left;background-color: #f0f8ff;}#sk-container-id-5 div.sk-toggleable__content pre {margin: 0.2em;color: black;border-radius: 0.25em;background-color: #f0f8ff;}#sk-container-id-5 input.sk-toggleable__control:checked~div.sk-toggleable__content {max-height: 200px;max-width: 100%;overflow: auto;}#sk-container-id-5 input.sk-toggleable__control:checked~label.sk-toggleable__label-arrow:before {content: \"▾\";}#sk-container-id-5 div.sk-estimator input.sk-toggleable__control:checked~label.sk-toggleable__label {background-color: #d4ebff;}#sk-container-id-5 div.sk-label input.sk-toggleable__control:checked~label.sk-toggleable__label {background-color: #d4ebff;}#sk-container-id-5 input.sk-hidden--visually {border: 0;clip: rect(1px 1px 1px 1px);clip: rect(1px, 1px, 1px, 1px);height: 1px;margin: -1px;overflow: hidden;padding: 0;position: absolute;width: 1px;}#sk-container-id-5 div.sk-estimator {font-family: monospace;background-color: #f0f8ff;border: 1px dotted black;border-radius: 0.25em;box-sizing: border-box;margin-bottom: 0.5em;}#sk-container-id-5 div.sk-estimator:hover {background-color: #d4ebff;}#sk-container-id-5 div.sk-parallel-item::after {content: \"\";width: 100%;border-bottom: 1px solid gray;flex-grow: 1;}#sk-container-id-5 div.sk-label:hover label.sk-toggleable__label {background-color: #d4ebff;}#sk-container-id-5 div.sk-serial::before {content: \"\";position: absolute;border-left: 1px solid gray;box-sizing: border-box;top: 0;bottom: 0;left: 50%;z-index: 0;}#sk-container-id-5 div.sk-serial {display: flex;flex-direction: column;align-items: center;background-color: white;padding-right: 0.2em;padding-left: 0.2em;position: relative;}#sk-container-id-5 div.sk-item {position: relative;z-index: 1;}#sk-container-id-5 div.sk-parallel {display: flex;align-items: stretch;justify-content: center;background-color: white;position: relative;}#sk-container-id-5 div.sk-item::before, #sk-container-id-5 div.sk-parallel-item::before {content: \"\";position: absolute;border-left: 1px solid gray;box-sizing: border-box;top: 0;bottom: 0;left: 50%;z-index: -1;}#sk-container-id-5 div.sk-parallel-item {display: flex;flex-direction: column;z-index: 1;position: relative;background-color: white;}#sk-container-id-5 div.sk-parallel-item:first-child::after {align-self: flex-end;width: 50%;}#sk-container-id-5 div.sk-parallel-item:last-child::after {align-self: flex-start;width: 50%;}#sk-container-id-5 div.sk-parallel-item:only-child::after {width: 0;}#sk-container-id-5 div.sk-dashed-wrapped {border: 1px dashed gray;margin: 0 0.4em 0.5em 0.4em;box-sizing: border-box;padding-bottom: 0.4em;background-color: white;}#sk-container-id-5 div.sk-label label {font-family: monospace;font-weight: bold;display: inline-block;line-height: 1.2em;}#sk-container-id-5 div.sk-label-container {text-align: center;}#sk-container-id-5 div.sk-container {/* jupyter's `normalize.less` sets `[hidden] { display: none; }` but bootstrap.min.css set `[hidden] { display: none !important; }` so we also need the `!important` here to be able to override the default hidden behavior on the sphinx rendered scikit-learn.org. See: https://github.com/scikit-learn/scikit-learn/issues/21755 */display: inline-block !important;position: relative;}#sk-container-id-5 div.sk-text-repr-fallback {display: none;}</style><div id=\"sk-container-id-5\" class=\"sk-top-container\"><div class=\"sk-text-repr-fallback\"><pre>SVC(probability=True)</pre><b>In a Jupyter environment, please rerun this cell to show the HTML representation or trust the notebook. <br />On GitHub, the HTML representation is unable to render, please try loading this page with nbviewer.org.</b></div><div class=\"sk-container\" hidden><div class=\"sk-item\"><div class=\"sk-estimator sk-toggleable\"><input class=\"sk-toggleable__control sk-hidden--visually\" id=\"sk-estimator-id-5\" type=\"checkbox\" checked><label for=\"sk-estimator-id-5\" class=\"sk-toggleable__label sk-toggleable__label-arrow\">SVC</label><div class=\"sk-toggleable__content\"><pre>SVC(probability=True)</pre></div></div></div></div></div>"
      ],
      "text/plain": [
       "SVC(probability=True)"
      ]
     },
     "execution_count": 130,
     "metadata": {},
     "output_type": "execute_result"
    }
   ],
   "source": [
    "from sklearn import svm\n",
    "svm_rbf = svm.SVC(kernel = 'rbf',probability=True)\n",
    "svm_rbf.fit(X_tr,y)"
   ]
  },
  {
   "cell_type": "code",
   "execution_count": 131,
   "metadata": {
    "ExecuteTime": {
     "end_time": "2023-01-09T08:39:05.202195Z",
     "start_time": "2023-01-09T08:37:03.614359Z"
    }
   },
   "outputs": [
    {
     "data": {
      "text/plain": [
       "0.9153303527074019"
      ]
     },
     "execution_count": 131,
     "metadata": {},
     "output_type": "execute_result"
    }
   ],
   "source": [
    "svm_rbf.score(X_tr,y)"
   ]
  },
  {
   "cell_type": "markdown",
   "metadata": {},
   "source": [
    "### 交叉k折验证模型评估"
   ]
  },
  {
   "cell_type": "code",
   "execution_count": 132,
   "metadata": {
    "ExecuteTime": {
     "end_time": "2023-01-09T09:01:55.272530Z",
     "start_time": "2023-01-09T08:39:22.504014Z"
    }
   },
   "outputs": [],
   "source": [
    "from sklearn.model_selection import cross_val_predict\n",
    "cv_predict = cross_val_predict(svm_rbf,X_tr,y,cv = 5)"
   ]
  },
  {
   "cell_type": "code",
   "execution_count": 133,
   "metadata": {
    "ExecuteTime": {
     "end_time": "2023-01-09T09:02:02.196318Z",
     "start_time": "2023-01-09T09:02:02.019704Z"
    }
   },
   "outputs": [
    {
     "name": "stdout",
     "output_type": "stream",
     "text": [
      "Accuracy:0.9137208147044212\n",
      "Precision:0.9108506853615151\n",
      "Recall:0.9359879574208809\n",
      "F1_score:0.9232482500176765\n",
      "              precision    recall  f1-score   support\n",
      "\n",
      "         未流失       0.92      0.89      0.90     22424\n",
      "          流失       0.91      0.94      0.92     27901\n",
      "\n",
      "    accuracy                           0.91     50325\n",
      "   macro avg       0.91      0.91      0.91     50325\n",
      "weighted avg       0.91      0.91      0.91     50325\n",
      "\n"
     ]
    }
   ],
   "source": [
    "from sklearn.metrics import accuracy_score,f1_score,precision_score,recall_score,classification_report,confusion_matrix\n",
    "print('Accuracy:{}'.format(accuracy_score(y,cv_predict)))\n",
    "print('Precision:{}'.format(precision_score(y,cv_predict)))\n",
    "print('Recall:{}'.format(recall_score(y,cv_predict)))\n",
    "print('F1_score:{}'.format(f1_score(y,cv_predict)))\n",
    "\n",
    "print(classification_report(y,cv_predict,labels = [0,1],target_names = ['未流失','流失']))"
   ]
  },
  {
   "cell_type": "markdown",
   "metadata": {},
   "source": [
    "### ROC曲线、AUC评估"
   ]
  },
  {
   "cell_type": "code",
   "execution_count": 136,
   "metadata": {
    "ExecuteTime": {
     "end_time": "2023-01-09T09:42:13.809040Z",
     "start_time": "2023-01-09T09:18:24.373437Z"
    }
   },
   "outputs": [],
   "source": [
    "from sklearn.metrics import roc_auc_score,roc_curve\n",
    "cv_predict_prob = cross_val_predict(svm_rbf,X_tr,y.values.ravel(),cv = 10,method='predict_proba',n_jobs = -1)"
   ]
  },
  {
   "cell_type": "code",
   "execution_count": 139,
   "metadata": {
    "ExecuteTime": {
     "end_time": "2023-01-10T01:18:06.492490Z",
     "start_time": "2023-01-10T01:18:06.436638Z"
    }
   },
   "outputs": [
    {
     "name": "stdout",
     "output_type": "stream",
     "text": [
      "AUC评估值:0.9559650109914772\n"
     ]
    }
   ],
   "source": [
    "fpr1,tpr1,thr1 = roc_curve(y.values.ravel(),cv_predict_prob[:,1])\n",
    "auc1 = roc_auc_score(y.values.ravel(),cv_predict_prob[:,1])\n",
    "print('AUC评估值:{}'.format(auc))"
   ]
  },
  {
   "cell_type": "code",
   "execution_count": 140,
   "metadata": {
    "ExecuteTime": {
     "end_time": "2023-01-10T01:18:09.013690Z",
     "start_time": "2023-01-10T01:18:08.779538Z"
    },
    "scrolled": false
   },
   "outputs": [
    {
     "data": {
      "image/png": "[encoded data removed]",
      "text/plain": [
       "<Figure size 432x432 with 1 Axes>"
      ]
     },
     "metadata": {},
     "output_type": "display_data"
    }
   ],
   "source": [
    "plt.figure(figsize = (6,6))\n",
    "plt.plot(fpr1,tpr1)\n",
    "plt.plot(fpr1,fpr1)\n",
    "plt.xlabel('False Positive Rate')\n",
    "plt.ylabel('True Positive Rate')\n",
    "plt.title(u'SVM高斯核交叉验证集ROC曲线')\n",
    "plt.show()"
   ]
  },
  {
   "cell_type": "markdown",
   "metadata": {},
   "source": [
    "## 神经网络"
   ]
  },
  {
   "cell_type": "markdown",
   "metadata": {},
   "source": [
    "### 创建估计器"
   ]
  },
  {
   "cell_type": "code",
   "execution_count": 141,
   "metadata": {
    "ExecuteTime": {
     "end_time": "2023-01-10T01:49:39.488216Z",
     "start_time": "2023-01-10T01:49:20.452191Z"
    }
   },
   "outputs": [
    {
     "data": {
      "text/html": [
       "<style>#sk-container-id-6 {color: black;background-color: white;}#sk-container-id-6 pre{padding: 0;}#sk-container-id-6 div.sk-toggleable {background-color: white;}#sk-container-id-6 label.sk-toggleable__label {cursor: pointer;display: block;width: 100%;margin-bottom: 0;padding: 0.3em;box-sizing: border-box;text-align: center;}#sk-container-id-6 label.sk-toggleable__label-arrow:before {content: \"▸\";float: left;margin-right: 0.25em;color: #696969;}#sk-container-id-6 label.sk-toggleable__label-arrow:hover:before {color: black;}#sk-container-id-6 div.sk-estimator:hover label.sk-toggleable__label-arrow:before {color: black;}#sk-container-id-6 div.sk-toggleable__content {max-height: 0;max-width: 0;overflow: hidden;text-align: left;background-color: #f0f8ff;}#sk-container-id-6 div.sk-toggleable__content pre {margin: 0.2em;color: black;border-radius: 0.25em;background-color: #f0f8ff;}#sk-container-id-6 input.sk-toggleable__control:checked~div.sk-toggleable__content {max-height: 200px;max-width: 100%;overflow: auto;}#sk-container-id-6 input.sk-toggleable__control:checked~label.sk-toggleable__label-arrow:before {content: \"▾\";}#sk-container-id-6 div.sk-estimator input.sk-toggleable__control:checked~label.sk-toggleable__label {background-color: #d4ebff;}#sk-container-id-6 div.sk-label input.sk-toggleable__control:checked~label.sk-toggleable__label {background-color: #d4ebff;}#sk-container-id-6 input.sk-hidden--visually {border: 0;clip: rect(1px 1px 1px 1px);clip: rect(1px, 1px, 1px, 1px);height: 1px;margin: -1px;overflow: hidden;padding: 0;position: absolute;width: 1px;}#sk-container-id-6 div.sk-estimator {font-family: monospace;background-color: #f0f8ff;border: 1px dotted black;border-radius: 0.25em;box-sizing: border-box;margin-bottom: 0.5em;}#sk-container-id-6 div.sk-estimator:hover {background-color: #d4ebff;}#sk-container-id-6 div.sk-parallel-item::after {content: \"\";width: 100%;border-bottom: 1px solid gray;flex-grow: 1;}#sk-container-id-6 div.sk-label:hover label.sk-toggleable__label {background-color: #d4ebff;}#sk-container-id-6 div.sk-serial::before {content: \"\";position: absolute;border-left: 1px solid gray;box-sizing: border-box;top: 0;bottom: 0;left: 50%;z-index: 0;}#sk-container-id-6 div.sk-serial {display: flex;flex-direction: column;align-items: center;background-color: white;padding-right: 0.2em;padding-left: 0.2em;position: relative;}#sk-container-id-6 div.sk-item {position: relative;z-index: 1;}#sk-container-id-6 div.sk-parallel {display: flex;align-items: stretch;justify-content: center;background-color: white;position: relative;}#sk-container-id-6 div.sk-item::before, #sk-container-id-6 div.sk-parallel-item::before {content: \"\";position: absolute;border-left: 1px solid gray;box-sizing: border-box;top: 0;bottom: 0;left: 50%;z-index: -1;}#sk-container-id-6 div.sk-parallel-item {display: flex;flex-direction: column;z-index: 1;position: relative;background-color: white;}#sk-container-id-6 div.sk-parallel-item:first-child::after {align-self: flex-end;width: 50%;}#sk-container-id-6 div.sk-parallel-item:last-child::after {align-self: flex-start;width: 50%;}#sk-container-id-6 div.sk-parallel-item:only-child::after {width: 0;}#sk-container-id-6 div.sk-dashed-wrapped {border: 1px dashed gray;margin: 0 0.4em 0.5em 0.4em;box-sizing: border-box;padding-bottom: 0.4em;background-color: white;}#sk-container-id-6 div.sk-label label {font-family: monospace;font-weight: bold;display: inline-block;line-height: 1.2em;}#sk-container-id-6 div.sk-label-container {text-align: center;}#sk-container-id-6 div.sk-container {/* jupyter's `normalize.less` sets `[hidden] { display: none; }` but bootstrap.min.css set `[hidden] { display: none !important; }` so we also need the `!important` here to be able to override the default hidden behavior on the sphinx rendered scikit-learn.org. See: https://github.com/scikit-learn/scikit-learn/issues/21755 */display: inline-block !important;position: relative;}#sk-container-id-6 div.sk-text-repr-fallback {display: none;}</style><div id=\"sk-container-id-6\" class=\"sk-top-container\"><div class=\"sk-text-repr-fallback\"><pre>MLPClassifier(hidden_layer_sizes=(5, 5))</pre><b>In a Jupyter environment, please rerun this cell to show the HTML representation or trust the notebook. <br />On GitHub, the HTML representation is unable to render, please try loading this page with nbviewer.org.</b></div><div class=\"sk-container\" hidden><div class=\"sk-item\"><div class=\"sk-estimator sk-toggleable\"><input class=\"sk-toggleable__control sk-hidden--visually\" id=\"sk-estimator-id-6\" type=\"checkbox\" checked><label for=\"sk-estimator-id-6\" class=\"sk-toggleable__label sk-toggleable__label-arrow\">MLPClassifier</label><div class=\"sk-toggleable__content\"><pre>MLPClassifier(hidden_layer_sizes=(5, 5))</pre></div></div></div></div></div>"
      ],
      "text/plain": [
       "MLPClassifier(hidden_layer_sizes=(5, 5))"
      ]
     },
     "execution_count": 141,
     "metadata": {},
     "output_type": "execute_result"
    }
   ],
   "source": [
    "from sklearn.neural_network import MLPClassifier\n",
    "nw = MLPClassifier(hidden_layer_sizes=(5,5))\n",
    "nw.fit(X_tr,y)"
   ]
  },
  {
   "cell_type": "code",
   "execution_count": 142,
   "metadata": {
    "ExecuteTime": {
     "end_time": "2023-01-10T01:50:02.189183Z",
     "start_time": "2023-01-10T01:50:02.138327Z"
    }
   },
   "outputs": [
    {
     "data": {
      "text/plain": [
       "0.9337704918032786"
      ]
     },
     "execution_count": 142,
     "metadata": {},
     "output_type": "execute_result"
    }
   ],
   "source": [
    "nw.score(X_tr,y)"
   ]
  },
  {
   "cell_type": "markdown",
   "metadata": {},
   "source": [
    "### 交叉k折验证模型评估"
   ]
  },
  {
   "cell_type": "code",
   "execution_count": 143,
   "metadata": {
    "ExecuteTime": {
     "end_time": "2023-01-10T01:55:15.591995Z",
     "start_time": "2023-01-10T01:52:08.533031Z"
    }
   },
   "outputs": [],
   "source": [
    "from sklearn.model_selection import cross_val_predict\n",
    "cv_predict = cross_val_predict(nw,X_tr,y,cv = 10)"
   ]
  },
  {
   "cell_type": "code",
   "execution_count": 144,
   "metadata": {
    "ExecuteTime": {
     "end_time": "2023-01-10T01:57:43.211341Z",
     "start_time": "2023-01-10T01:57:43.024915Z"
    }
   },
   "outputs": [
    {
     "name": "stdout",
     "output_type": "stream",
     "text": [
      "Accuracy:0.9334923000496771\n",
      "Precision:0.9470215554908243\n",
      "Recall:0.9321888104369019\n",
      "F1_score:0.9395466449923237\n",
      "              precision    recall  f1-score   support\n",
      "\n",
      "         未流失       0.92      0.94      0.93     22424\n",
      "          流失       0.95      0.93      0.94     27901\n",
      "\n",
      "    accuracy                           0.93     50325\n",
      "   macro avg       0.93      0.93      0.93     50325\n",
      "weighted avg       0.93      0.93      0.93     50325\n",
      "\n"
     ]
    }
   ],
   "source": [
    "from sklearn.metrics import accuracy_score,f1_score,precision_score,recall_score,classification_report,confusion_matrix\n",
    "print('Accuracy:{}'.format(accuracy_score(y,cv_predict)))\n",
    "print('Precision:{}'.format(precision_score(y,cv_predict)))\n",
    "print('Recall:{}'.format(recall_score(y,cv_predict)))\n",
    "print('F1_score:{}'.format(f1_score(y,cv_predict)))\n",
    "\n",
    "print(classification_report(y,cv_predict,labels = [0,1],target_names = ['未流失','流失']))"
   ]
  },
  {
   "cell_type": "markdown",
   "metadata": {},
   "source": [
    "### ROC曲线、AUC评估"
   ]
  },
  {
   "cell_type": "code",
   "execution_count": 146,
   "metadata": {
    "ExecuteTime": {
     "end_time": "2023-01-10T02:03:56.289363Z",
     "start_time": "2023-01-10T02:00:33.665436Z"
    }
   },
   "outputs": [],
   "source": [
    "from sklearn.metrics import roc_auc_score,roc_curve\n",
    "cv_predict_prob = cross_val_predict(nw,X_tr,y.values.ravel(),cv = 10,method='predict_proba')"
   ]
  },
  {
   "cell_type": "code",
   "execution_count": 147,
   "metadata": {
    "ExecuteTime": {
     "end_time": "2023-01-10T02:06:07.093295Z",
     "start_time": "2023-01-10T02:06:07.037477Z"
    }
   },
   "outputs": [
    {
     "name": "stdout",
     "output_type": "stream",
     "text": [
      "AUC评估值:0.9618824960438392\n"
     ]
    }
   ],
   "source": [
    "fpr2,tpr2,thr2 = roc_curve(y.values.ravel(),cv_predict_prob[:,1])\n",
    "auc = roc_auc_score(y.values.ravel(),cv_predict_prob[:,1])\n",
    "print('AUC评估值:{}'.format(auc))"
   ]
  },
  {
   "cell_type": "code",
   "execution_count": 148,
   "metadata": {
    "ExecuteTime": {
     "end_time": "2023-01-10T02:07:54.098020Z",
     "start_time": "2023-01-10T02:07:53.840586Z"
    }
   },
   "outputs": [
    {
     "data": {
      "image/png": "[encoded data removed]",
      "text/plain": [
       "<Figure size 432x432 with 1 Axes>"
      ]
     },
     "metadata": {},
     "output_type": "display_data"
    }
   ],
   "source": [
    "plt.figure(figsize=(6,6))\n",
    "plt.plot(fpr2,tpr2)\n",
    "plt.plot(fpr2,fpr2)\n",
    "plt.xlabel('False Positive Rate')\n",
    "plt.ylabel('True Positive Rate')\n",
    "plt.title(u'神经网络交叉验证集ROC曲线')\n",
    "plt.show()"
   ]
  },
  {
   "cell_type": "markdown",
   "metadata": {},
   "source": [
    "## 随机森林"
   ]
  },
  {
   "cell_type": "markdown",
   "metadata": {},
   "source": [
    "### 创建估计器"
   ]
  },
  {
   "cell_type": "code",
   "execution_count": 149,
   "metadata": {
    "ExecuteTime": {
     "end_time": "2023-01-10T02:10:39.715229Z",
     "start_time": "2023-01-10T02:10:37.911889Z"
    }
   },
   "outputs": [
    {
     "data": {
      "text/html": [
       "<style>#sk-container-id-7 {color: black;background-color: white;}#sk-container-id-7 pre{padding: 0;}#sk-container-id-7 div.sk-toggleable {background-color: white;}#sk-container-id-7 label.sk-toggleable__label {cursor: pointer;display: block;width: 100%;margin-bottom: 0;padding: 0.3em;box-sizing: border-box;text-align: center;}#sk-container-id-7 label.sk-toggleable__label-arrow:before {content: \"▸\";float: left;margin-right: 0.25em;color: #696969;}#sk-container-id-7 label.sk-toggleable__label-arrow:hover:before {color: black;}#sk-container-id-7 div.sk-estimator:hover label.sk-toggleable__label-arrow:before {color: black;}#sk-container-id-7 div.sk-toggleable__content {max-height: 0;max-width: 0;overflow: hidden;text-align: left;background-color: #f0f8ff;}#sk-container-id-7 div.sk-toggleable__content pre {margin: 0.2em;color: black;border-radius: 0.25em;background-color: #f0f8ff;}#sk-container-id-7 input.sk-toggleable__control:checked~div.sk-toggleable__content {max-height: 200px;max-width: 100%;overflow: auto;}#sk-container-id-7 input.sk-toggleable__control:checked~label.sk-toggleable__label-arrow:before {content: \"▾\";}#sk-container-id-7 div.sk-estimator input.sk-toggleable__control:checked~label.sk-toggleable__label {background-color: #d4ebff;}#sk-container-id-7 div.sk-label input.sk-toggleable__control:checked~label.sk-toggleable__label {background-color: #d4ebff;}#sk-container-id-7 input.sk-hidden--visually {border: 0;clip: rect(1px 1px 1px 1px);clip: rect(1px, 1px, 1px, 1px);height: 1px;margin: -1px;overflow: hidden;padding: 0;position: absolute;width: 1px;}#sk-container-id-7 div.sk-estimator {font-family: monospace;background-color: #f0f8ff;border: 1px dotted black;border-radius: 0.25em;box-sizing: border-box;margin-bottom: 0.5em;}#sk-container-id-7 div.sk-estimator:hover {background-color: #d4ebff;}#sk-container-id-7 div.sk-parallel-item::after {content: \"\";width: 100%;border-bottom: 1px solid gray;flex-grow: 1;}#sk-container-id-7 div.sk-label:hover label.sk-toggleable__label {background-color: #d4ebff;}#sk-container-id-7 div.sk-serial::before {content: \"\";position: absolute;border-left: 1px solid gray;box-sizing: border-box;top: 0;bottom: 0;left: 50%;z-index: 0;}#sk-container-id-7 div.sk-serial {display: flex;flex-direction: column;align-items: center;background-color: white;padding-right: 0.2em;padding-left: 0.2em;position: relative;}#sk-container-id-7 div.sk-item {position: relative;z-index: 1;}#sk-container-id-7 div.sk-parallel {display: flex;align-items: stretch;justify-content: center;background-color: white;position: relative;}#sk-container-id-7 div.sk-item::before, #sk-container-id-7 div.sk-parallel-item::before {content: \"\";position: absolute;border-left: 1px solid gray;box-sizing: border-box;top: 0;bottom: 0;left: 50%;z-index: -1;}#sk-container-id-7 div.sk-parallel-item {display: flex;flex-direction: column;z-index: 1;position: relative;background-color: white;}#sk-container-id-7 div.sk-parallel-item:first-child::after {align-self: flex-end;width: 50%;}#sk-container-id-7 div.sk-parallel-item:last-child::after {align-self: flex-start;width: 50%;}#sk-container-id-7 div.sk-parallel-item:only-child::after {width: 0;}#sk-container-id-7 div.sk-dashed-wrapped {border: 1px dashed gray;margin: 0 0.4em 0.5em 0.4em;box-sizing: border-box;padding-bottom: 0.4em;background-color: white;}#sk-container-id-7 div.sk-label label {font-family: monospace;font-weight: bold;display: inline-block;line-height: 1.2em;}#sk-container-id-7 div.sk-label-container {text-align: center;}#sk-container-id-7 div.sk-container {/* jupyter's `normalize.less` sets `[hidden] { display: none; }` but bootstrap.min.css set `[hidden] { display: none !important; }` so we also need the `!important` here to be able to override the default hidden behavior on the sphinx rendered scikit-learn.org. See: https://github.com/scikit-learn/scikit-learn/issues/21755 */display: inline-block !important;position: relative;}#sk-container-id-7 div.sk-text-repr-fallback {display: none;}</style><div id=\"sk-container-id-7\" class=\"sk-top-container\"><div class=\"sk-text-repr-fallback\"><pre>RandomForestClassifier(n_jobs=-1)</pre><b>In a Jupyter environment, please rerun this cell to show the HTML representation or trust the notebook. <br />On GitHub, the HTML representation is unable to render, please try loading this page with nbviewer.org.</b></div><div class=\"sk-container\" hidden><div class=\"sk-item\"><div class=\"sk-estimator sk-toggleable\"><input class=\"sk-toggleable__control sk-hidden--visually\" id=\"sk-estimator-id-7\" type=\"checkbox\" checked><label for=\"sk-estimator-id-7\" class=\"sk-toggleable__label sk-toggleable__label-arrow\">RandomForestClassifier</label><div class=\"sk-toggleable__content\"><pre>RandomForestClassifier(n_jobs=-1)</pre></div></div></div></div></div>"
      ],
      "text/plain": [
       "RandomForestClassifier(n_jobs=-1)"
      ]
     },
     "execution_count": 149,
     "metadata": {},
     "output_type": "execute_result"
    }
   ],
   "source": [
    "from sklearn.ensemble import RandomForestClassifier\n",
    "rfc = RandomForestClassifier(n_estimators=100,n_jobs = -1)\n",
    "rfc.fit(X_tr,y)"
   ]
  },
  {
   "cell_type": "code",
   "execution_count": 150,
   "metadata": {
    "ExecuteTime": {
     "end_time": "2023-01-10T02:11:02.821197Z",
     "start_time": "2023-01-10T02:11:02.493831Z"
    }
   },
   "outputs": [
    {
     "data": {
      "text/plain": [
       "0.9999602583209141"
      ]
     },
     "execution_count": 150,
     "metadata": {},
     "output_type": "execute_result"
    }
   ],
   "source": [
    "rfc.score(X_tr,y)"
   ]
  },
  {
   "cell_type": "markdown",
   "metadata": {},
   "source": [
    "### 交叉k折验证模型评估"
   ]
  },
  {
   "cell_type": "code",
   "execution_count": 151,
   "metadata": {
    "ExecuteTime": {
     "end_time": "2023-01-10T02:13:10.166889Z",
     "start_time": "2023-01-10T02:12:39.587659Z"
    }
   },
   "outputs": [],
   "source": [
    "from sklearn.model_selection import cross_val_predict\n",
    "cv_predict = cross_val_predict(rfc,X_tr,y,cv = 10,n_jobs = -1)"
   ]
  },
  {
   "cell_type": "code",
   "execution_count": 152,
   "metadata": {
    "ExecuteTime": {
     "end_time": "2023-01-10T02:13:28.838143Z",
     "start_time": "2023-01-10T02:13:28.530486Z"
    }
   },
   "outputs": [
    {
     "name": "stdout",
     "output_type": "stream",
     "text": [
      "Accuracy:0.9411028315946349\n",
      "Precision:0.9556700654168037\n",
      "Recall:0.9372423927457797\n",
      "F1_score:0.9463665315576143\n",
      "              precision    recall  f1-score   support\n",
      "\n",
      "         未流失       0.92      0.95      0.93     22424\n",
      "          流失       0.96      0.94      0.95     27901\n",
      "\n",
      "    accuracy                           0.94     50325\n",
      "   macro avg       0.94      0.94      0.94     50325\n",
      "weighted avg       0.94      0.94      0.94     50325\n",
      "\n"
     ]
    }
   ],
   "source": [
    "from sklearn.metrics import accuracy_score,f1_score,precision_score,recall_score,classification_report,confusion_matrix\n",
    "print('Accuracy:{}'.format(accuracy_score(y,cv_predict)))\n",
    "print('Precision:{}'.format(precision_score(y,cv_predict)))\n",
    "print('Recall:{}'.format(recall_score(y,cv_predict)))\n",
    "print('F1_score:{}'.format(f1_score(y,cv_predict)))\n",
    "\n",
    "print(classification_report(y,cv_predict,labels = [0,1],target_names = ['未流失','流失']))"
   ]
  },
  {
   "cell_type": "markdown",
   "metadata": {},
   "source": [
    "### ROC曲线、AUC评估"
   ]
  },
  {
   "cell_type": "code",
   "execution_count": 155,
   "metadata": {
    "ExecuteTime": {
     "end_time": "2023-01-10T02:16:48.056729Z",
     "start_time": "2023-01-10T02:16:20.015594Z"
    }
   },
   "outputs": [],
   "source": [
    "from sklearn.model_selection import cross_val_predict\n",
    "cv_predict_prob = cross_val_predict(rfc,X_tr,y.values.ravel(),cv = 10,method = 'predict_proba')"
   ]
  },
  {
   "cell_type": "code",
   "execution_count": 156,
   "metadata": {
    "ExecuteTime": {
     "end_time": "2023-01-10T02:18:53.164472Z",
     "start_time": "2023-01-10T02:18:53.096669Z"
    }
   },
   "outputs": [
    {
     "name": "stdout",
     "output_type": "stream",
     "text": [
      "AUC评估值:0.9786178378925856\n"
     ]
    }
   ],
   "source": [
    "from sklearn.metrics import roc_auc_score,roc_curve\n",
    "fpr3,tpr3,thr3 = roc_curve(y.values.ravel(),cv_predict_prob[:,1])\n",
    "auc = roc_auc_score(y.values.ravel(),cv_predict_prob[:,1])\n",
    "print('AUC评估值:{}'.format(auc))"
   ]
  },
  {
   "cell_type": "code",
   "execution_count": 157,
   "metadata": {
    "ExecuteTime": {
     "end_time": "2023-01-10T02:19:40.946861Z",
     "start_time": "2023-01-10T02:19:40.341803Z"
    }
   },
   "outputs": [
    {
     "data": {
      "image/png": "[encoded data removed]",
      "text/plain": [
       "<Figure size 432x432 with 1 Axes>"
      ]
     },
     "metadata": {},
     "output_type": "display_data"
    }
   ],
   "source": [
    "plt.figure(figsize=(6,6))\n",
    "plt.plot(fpr3,tpr3)\n",
    "plt.plot(fpr3,fpr3)\n",
    "plt.xlabel('False Positive Rate')\n",
    "plt.ylabel('True Positive Rate')\n",
    "plt.title(u'随机森林交叉验证集ROC曲线')\n",
    "plt.show()"
   ]
  },
  {
   "cell_type": "markdown",
   "metadata": {},
   "source": [
    "## 小结"
   ]
  },
  {
   "cell_type": "code",
   "execution_count": 170,
   "metadata": {
    "ExecuteTime": {
     "end_time": "2023-01-10T02:30:37.447761Z",
     "start_time": "2023-01-10T02:30:37.077509Z"
    }
   },
   "outputs": [
    {
     "data": {
      "image/png": "[encoded data removed]",
      "text/plain": [
       "<Figure size 432x432 with 1 Axes>"
      ]
     },
     "metadata": {},
     "output_type": "display_data"
    }
   ],
   "source": [
    "plt.figure(figsize=(6,6))\n",
    "plt.plot(fpr,tpr,color = 'green',alpha = 0.3,label = '逻辑回归')\n",
    "plt.plot(fpr1,tpr1,color = 'blue',alpha = 0.3,label = '支持向量机')\n",
    "plt.plot(fpr2,tpr2,color = 'black',alpha = 0.3,label = '神经网络')\n",
    "plt.plot(fpr3,tpr3,color = 'red',alpha = 0.3,label = '随机森林')\n",
    "plt.xlabel('False Positive Rate')\n",
    "plt.ylabel('True Positive Rate')\n",
    "plt.title(u'交叉验证集ROC曲线缩略图')\n",
    "plt.ylim([0.8,1])\n",
    "plt.xlim([0.0,0.2])\n",
    "plt.legend()\n",
    "plt.show()"
   ]
  },
  {
   "cell_type": "markdown",
   "metadata": {},
   "source": [
    "* **ROC曲线**\n",
    "\n",
    "上图展现出了四种算法在ROC曲线表现方面的差异，其中表现最佳的是<span class=\"girk\">随机森林</span>，其次为<span class=\"girk\">神经网络</span>，支持向量机和逻辑回归表现相当。\n",
    "\n",
    "* **评估指标**\n",
    "\n",
    "| 算法名 | f1_score | AUC |\n",
    "| --- | --- | --- |\n",
    "| 逻辑回归 | 0.8979 | 0.9439 |\n",
    "| 支持向量机 | 0.9232 | 0.9559 |\n",
    "| 神经网络 | 0.9395 | 0.9619 |\n",
    "| 随机森林 | 0.9464 | 0.9786 |\n",
    "\n",
    "在评估指标这方面，很明显<span class=\"girk\">随机森林</span>的表现也是表现最佳的，<span class=\"girk\">神经网络</span>其次。于是在之后的模型调优方面，着重调整这两种算法的参数，以求在训练集上更好的表现。"
   ]
  },
  {
   "cell_type": "markdown",
   "metadata": {},
   "source": [
    "# 模型调优"
   ]
  },
  {
   "cell_type": "markdown",
   "metadata": {},
   "source": [
    "## 神经网络的模型调优"
   ]
  },
  {
   "cell_type": "markdown",
   "metadata": {},
   "source": [
    "### 确定层数"
   ]
  },
  {
   "cell_type": "code",
   "execution_count": 177,
   "metadata": {
    "ExecuteTime": {
     "end_time": "2023-01-10T03:18:41.041931Z",
     "start_time": "2023-01-10T03:00:31.069370Z"
    }
   },
   "outputs": [
    {
     "data": {
      "text/html": [
       "<style>#sk-container-id-8 {color: black;background-color: white;}#sk-container-id-8 pre{padding: 0;}#sk-container-id-8 div.sk-toggleable {background-color: white;}#sk-container-id-8 label.sk-toggleable__label {cursor: pointer;display: block;width: 100%;margin-bottom: 0;padding: 0.3em;box-sizing: border-box;text-align: center;}#sk-container-id-8 label.sk-toggleable__label-arrow:before {content: \"▸\";float: left;margin-right: 0.25em;color: #696969;}#sk-container-id-8 label.sk-toggleable__label-arrow:hover:before {color: black;}#sk-container-id-8 div.sk-estimator:hover label.sk-toggleable__label-arrow:before {color: black;}#sk-container-id-8 div.sk-toggleable__content {max-height: 0;max-width: 0;overflow: hidden;text-align: left;background-color: #f0f8ff;}#sk-container-id-8 div.sk-toggleable__content pre {margin: 0.2em;color: black;border-radius: 0.25em;background-color: #f0f8ff;}#sk-container-id-8 input.sk-toggleable__control:checked~div.sk-toggleable__content {max-height: 200px;max-width: 100%;overflow: auto;}#sk-container-id-8 input.sk-toggleable__control:checked~label.sk-toggleable__label-arrow:before {content: \"▾\";}#sk-container-id-8 div.sk-estimator input.sk-toggleable__control:checked~label.sk-toggleable__label {background-color: #d4ebff;}#sk-container-id-8 div.sk-label input.sk-toggleable__control:checked~label.sk-toggleable__label {background-color: #d4ebff;}#sk-container-id-8 input.sk-hidden--visually {border: 0;clip: rect(1px 1px 1px 1px);clip: rect(1px, 1px, 1px, 1px);height: 1px;margin: -1px;overflow: hidden;padding: 0;position: absolute;width: 1px;}#sk-container-id-8 div.sk-estimator {font-family: monospace;background-color: #f0f8ff;border: 1px dotted black;border-radius: 0.25em;box-sizing: border-box;margin-bottom: 0.5em;}#sk-container-id-8 div.sk-estimator:hover {background-color: #d4ebff;}#sk-container-id-8 div.sk-parallel-item::after {content: \"\";width: 100%;border-bottom: 1px solid gray;flex-grow: 1;}#sk-container-id-8 div.sk-label:hover label.sk-toggleable__label {background-color: #d4ebff;}#sk-container-id-8 div.sk-serial::before {content: \"\";position: absolute;border-left: 1px solid gray;box-sizing: border-box;top: 0;bottom: 0;left: 50%;z-index: 0;}#sk-container-id-8 div.sk-serial {display: flex;flex-direction: column;align-items: center;background-color: white;padding-right: 0.2em;padding-left: 0.2em;position: relative;}#sk-container-id-8 div.sk-item {position: relative;z-index: 1;}#sk-container-id-8 div.sk-parallel {display: flex;align-items: stretch;justify-content: center;background-color: white;position: relative;}#sk-container-id-8 div.sk-item::before, #sk-container-id-8 div.sk-parallel-item::before {content: \"\";position: absolute;border-left: 1px solid gray;box-sizing: border-box;top: 0;bottom: 0;left: 50%;z-index: -1;}#sk-container-id-8 div.sk-parallel-item {display: flex;flex-direction: column;z-index: 1;position: relative;background-color: white;}#sk-container-id-8 div.sk-parallel-item:first-child::after {align-self: flex-end;width: 50%;}#sk-container-id-8 div.sk-parallel-item:last-child::after {align-self: flex-start;width: 50%;}#sk-container-id-8 div.sk-parallel-item:only-child::after {width: 0;}#sk-container-id-8 div.sk-dashed-wrapped {border: 1px dashed gray;margin: 0 0.4em 0.5em 0.4em;box-sizing: border-box;padding-bottom: 0.4em;background-color: white;}#sk-container-id-8 div.sk-label label {font-family: monospace;font-weight: bold;display: inline-block;line-height: 1.2em;}#sk-container-id-8 div.sk-label-container {text-align: center;}#sk-container-id-8 div.sk-container {/* jupyter's `normalize.less` sets `[hidden] { display: none; }` but bootstrap.min.css set `[hidden] { display: none !important; }` so we also need the `!important` here to be able to override the default hidden behavior on the sphinx rendered scikit-learn.org. See: https://github.com/scikit-learn/scikit-learn/issues/21755 */display: inline-block !important;position: relative;}#sk-container-id-8 div.sk-text-repr-fallback {display: none;}</style><div id=\"sk-container-id-8\" class=\"sk-top-container\"><div class=\"sk-text-repr-fallback\"><pre>GridSearchCV(cv=5, estimator=MLPClassifier(hidden_layer_sizes=(5, 5)),\n",
       "             param_grid={&#x27;hidden_layer_sizes&#x27;: [(100,), (100, 100),\n",
       "                                                (100, 100, 100)]},\n",
       "             scoring=&#x27;f1&#x27;)</pre><b>In a Jupyter environment, please rerun this cell to show the HTML representation or trust the notebook. <br />On GitHub, the HTML representation is unable to render, please try loading this page with nbviewer.org.</b></div><div class=\"sk-container\" hidden><div class=\"sk-item sk-dashed-wrapped\"><div class=\"sk-label-container\"><div class=\"sk-label sk-toggleable\"><input class=\"sk-toggleable__control sk-hidden--visually\" id=\"sk-estimator-id-8\" type=\"checkbox\" ><label for=\"sk-estimator-id-8\" class=\"sk-toggleable__label sk-toggleable__label-arrow\">GridSearchCV</label><div class=\"sk-toggleable__content\"><pre>GridSearchCV(cv=5, estimator=MLPClassifier(hidden_layer_sizes=(5, 5)),\n",
       "             param_grid={&#x27;hidden_layer_sizes&#x27;: [(100,), (100, 100),\n",
       "                                                (100, 100, 100)]},\n",
       "             scoring=&#x27;f1&#x27;)</pre></div></div></div><div class=\"sk-parallel\"><div class=\"sk-parallel-item\"><div class=\"sk-item\"><div class=\"sk-label-container\"><div class=\"sk-label sk-toggleable\"><input class=\"sk-toggleable__control sk-hidden--visually\" id=\"sk-estimator-id-9\" type=\"checkbox\" ><label for=\"sk-estimator-id-9\" class=\"sk-toggleable__label sk-toggleable__label-arrow\">estimator: MLPClassifier</label><div class=\"sk-toggleable__content\"><pre>MLPClassifier(hidden_layer_sizes=(5, 5))</pre></div></div></div><div class=\"sk-serial\"><div class=\"sk-item\"><div class=\"sk-estimator sk-toggleable\"><input class=\"sk-toggleable__control sk-hidden--visually\" id=\"sk-estimator-id-10\" type=\"checkbox\" ><label for=\"sk-estimator-id-10\" class=\"sk-toggleable__label sk-toggleable__label-arrow\">MLPClassifier</label><div class=\"sk-toggleable__content\"><pre>MLPClassifier(hidden_layer_sizes=(5, 5))</pre></div></div></div></div></div></div></div></div></div></div>"
      ],
      "text/plain": [
       "GridSearchCV(cv=5, estimator=MLPClassifier(hidden_layer_sizes=(5, 5)),\n",
       "             param_grid={'hidden_layer_sizes': [(100,), (100, 100),\n",
       "                                                (100, 100, 100)]},\n",
       "             scoring='f1')"
      ]
     },
     "execution_count": 177,
     "metadata": {},
     "output_type": "execute_result"
    }
   ],
   "source": [
    "from sklearn.model_selection import GridSearchCV\n",
    "param_grid = {'hidden_layer_sizes':[(100,),(100,100),(100,100,100)]}\n",
    "grid_search = GridSearchCV(nw,param_grid = param_grid,scoring='f1',cv = 5)\n",
    "grid_search.fit(X_tr,y)"
   ]
  },
  {
   "cell_type": "code",
   "execution_count": 189,
   "metadata": {
    "ExecuteTime": {
     "end_time": "2023-01-10T03:29:51.338686Z",
     "start_time": "2023-01-10T03:29:50.909273Z"
    }
   },
   "outputs": [
    {
     "data": {
      "image/png": "[encoded data removed]",
      "text/plain": [
       "<Figure size 432x432 with 1 Axes>"
      ]
     },
     "metadata": {},
     "output_type": "display_data"
    }
   ],
   "source": [
    "plt.figure(figsize = (6,6))\n",
    "plt.plot([1,2,3],list(grid_search.cv_results_['mean_test_score']))\n",
    "plt.xticks([1,2,3])\n",
    "plt.ylabel('f1_score')\n",
    "plt.xlabel(u'层数')\n",
    "plt.title(u'不同层数的神经网络性能表现')\n",
    "plt.show()"
   ]
  },
  {
   "cell_type": "markdown",
   "metadata": {},
   "source": [
    "可以看到当层数为2的时候，模型f1_score的评分是最佳的。"
   ]
  },
  {
   "cell_type": "markdown",
   "metadata": {
    "ExecuteTime": {
     "end_time": "2023-01-10T02:57:00.670390Z",
     "start_time": "2023-01-10T02:57:00.647452Z"
    }
   },
   "source": [
    "### 确定每层节点数"
   ]
  },
  {
   "cell_type": "code",
   "execution_count": 190,
   "metadata": {
    "ExecuteTime": {
     "end_time": "2023-01-10T04:48:09.557618Z",
     "start_time": "2023-01-10T03:33:32.463645Z"
    }
   },
   "outputs": [
    {
     "data": {
      "text/html": [
       "<style>#sk-container-id-10 {color: black;background-color: white;}#sk-container-id-10 pre{padding: 0;}#sk-container-id-10 div.sk-toggleable {background-color: white;}#sk-container-id-10 label.sk-toggleable__label {cursor: pointer;display: block;width: 100%;margin-bottom: 0;padding: 0.3em;box-sizing: border-box;text-align: center;}#sk-container-id-10 label.sk-toggleable__label-arrow:before {content: \"▸\";float: left;margin-right: 0.25em;color: #696969;}#sk-container-id-10 label.sk-toggleable__label-arrow:hover:before {color: black;}#sk-container-id-10 div.sk-estimator:hover label.sk-toggleable__label-arrow:before {color: black;}#sk-container-id-10 div.sk-toggleable__content {max-height: 0;max-width: 0;overflow: hidden;text-align: left;background-color: #f0f8ff;}#sk-container-id-10 div.sk-toggleable__content pre {margin: 0.2em;color: black;border-radius: 0.25em;background-color: #f0f8ff;}#sk-container-id-10 input.sk-toggleable__control:checked~div.sk-toggleable__content {max-height: 200px;max-width: 100%;overflow: auto;}#sk-container-id-10 input.sk-toggleable__control:checked~label.sk-toggleable__label-arrow:before {content: \"▾\";}#sk-container-id-10 div.sk-estimator input.sk-toggleable__control:checked~label.sk-toggleable__label {background-color: #d4ebff;}#sk-container-id-10 div.sk-label input.sk-toggleable__control:checked~label.sk-toggleable__label {background-color: #d4ebff;}#sk-container-id-10 input.sk-hidden--visually {border: 0;clip: rect(1px 1px 1px 1px);clip: rect(1px, 1px, 1px, 1px);height: 1px;margin: -1px;overflow: hidden;padding: 0;position: absolute;width: 1px;}#sk-container-id-10 div.sk-estimator {font-family: monospace;background-color: #f0f8ff;border: 1px dotted black;border-radius: 0.25em;box-sizing: border-box;margin-bottom: 0.5em;}#sk-container-id-10 div.sk-estimator:hover {background-color: #d4ebff;}#sk-container-id-10 div.sk-parallel-item::after {content: \"\";width: 100%;border-bottom: 1px solid gray;flex-grow: 1;}#sk-container-id-10 div.sk-label:hover label.sk-toggleable__label {background-color: #d4ebff;}#sk-container-id-10 div.sk-serial::before {content: \"\";position: absolute;border-left: 1px solid gray;box-sizing: border-box;top: 0;bottom: 0;left: 50%;z-index: 0;}#sk-container-id-10 div.sk-serial {display: flex;flex-direction: column;align-items: center;background-color: white;padding-right: 0.2em;padding-left: 0.2em;position: relative;}#sk-container-id-10 div.sk-item {position: relative;z-index: 1;}#sk-container-id-10 div.sk-parallel {display: flex;align-items: stretch;justify-content: center;background-color: white;position: relative;}#sk-container-id-10 div.sk-item::before, #sk-container-id-10 div.sk-parallel-item::before {content: \"\";position: absolute;border-left: 1px solid gray;box-sizing: border-box;top: 0;bottom: 0;left: 50%;z-index: -1;}#sk-container-id-10 div.sk-parallel-item {display: flex;flex-direction: column;z-index: 1;position: relative;background-color: white;}#sk-container-id-10 div.sk-parallel-item:first-child::after {align-self: flex-end;width: 50%;}#sk-container-id-10 div.sk-parallel-item:last-child::after {align-self: flex-start;width: 50%;}#sk-container-id-10 div.sk-parallel-item:only-child::after {width: 0;}#sk-container-id-10 div.sk-dashed-wrapped {border: 1px dashed gray;margin: 0 0.4em 0.5em 0.4em;box-sizing: border-box;padding-bottom: 0.4em;background-color: white;}#sk-container-id-10 div.sk-label label {font-family: monospace;font-weight: bold;display: inline-block;line-height: 1.2em;}#sk-container-id-10 div.sk-label-container {text-align: center;}#sk-container-id-10 div.sk-container {/* jupyter's `normalize.less` sets `[hidden] { display: none; }` but bootstrap.min.css set `[hidden] { display: none !important; }` so we also need the `!important` here to be able to override the default hidden behavior on the sphinx rendered scikit-learn.org. See: https://github.com/scikit-learn/scikit-learn/issues/21755 */display: inline-block !important;position: relative;}#sk-container-id-10 div.sk-text-repr-fallback {display: none;}</style><div id=\"sk-container-id-10\" class=\"sk-top-container\"><div class=\"sk-text-repr-fallback\"><pre>GridSearchCV(cv=10, estimator=MLPClassifier(hidden_layer_sizes=(5, 5)),\n",
       "             param_grid={&#x27;hidden_layer_sizes&#x27;: [(5, 5), (10, 10), (25, 25),\n",
       "                                                (50, 50), (75, 75),\n",
       "                                                (100, 100)]},\n",
       "             scoring=&#x27;f1&#x27;)</pre><b>In a Jupyter environment, please rerun this cell to show the HTML representation or trust the notebook. <br />On GitHub, the HTML representation is unable to render, please try loading this page with nbviewer.org.</b></div><div class=\"sk-container\" hidden><div class=\"sk-item sk-dashed-wrapped\"><div class=\"sk-label-container\"><div class=\"sk-label sk-toggleable\"><input class=\"sk-toggleable__control sk-hidden--visually\" id=\"sk-estimator-id-12\" type=\"checkbox\" ><label for=\"sk-estimator-id-12\" class=\"sk-toggleable__label sk-toggleable__label-arrow\">GridSearchCV</label><div class=\"sk-toggleable__content\"><pre>GridSearchCV(cv=10, estimator=MLPClassifier(hidden_layer_sizes=(5, 5)),\n",
       "             param_grid={&#x27;hidden_layer_sizes&#x27;: [(5, 5), (10, 10), (25, 25),\n",
       "                                                (50, 50), (75, 75),\n",
       "                                                (100, 100)]},\n",
       "             scoring=&#x27;f1&#x27;)</pre></div></div></div><div class=\"sk-parallel\"><div class=\"sk-parallel-item\"><div class=\"sk-item\"><div class=\"sk-label-container\"><div class=\"sk-label sk-toggleable\"><input class=\"sk-toggleable__control sk-hidden--visually\" id=\"sk-estimator-id-13\" type=\"checkbox\" ><label for=\"sk-estimator-id-13\" class=\"sk-toggleable__label sk-toggleable__label-arrow\">estimator: MLPClassifier</label><div class=\"sk-toggleable__content\"><pre>MLPClassifier(hidden_layer_sizes=(5, 5))</pre></div></div></div><div class=\"sk-serial\"><div class=\"sk-item\"><div class=\"sk-estimator sk-toggleable\"><input class=\"sk-toggleable__control sk-hidden--visually\" id=\"sk-estimator-id-14\" type=\"checkbox\" ><label for=\"sk-estimator-id-14\" class=\"sk-toggleable__label sk-toggleable__label-arrow\">MLPClassifier</label><div class=\"sk-toggleable__content\"><pre>MLPClassifier(hidden_layer_sizes=(5, 5))</pre></div></div></div></div></div></div></div></div></div></div>"
      ],
      "text/plain": [
       "GridSearchCV(cv=10, estimator=MLPClassifier(hidden_layer_sizes=(5, 5)),\n",
       "             param_grid={'hidden_layer_sizes': [(5, 5), (10, 10), (25, 25),\n",
       "                                                (50, 50), (75, 75),\n",
       "                                                (100, 100)]},\n",
       "             scoring='f1')"
      ]
     },
     "execution_count": 190,
     "metadata": {},
     "output_type": "execute_result"
    }
   ],
   "source": [
    "from sklearn.model_selection import GridSearchCV\n",
    "param_grid = {'hidden_layer_sizes':[(5,5),(10,10),(25,25),(50,50),(75,75),(100,100)]}\n",
    "grid_search = GridSearchCV(nw,param_grid = param_grid,cv = 10,scoring='f1')\n",
    "grid_search.fit(X_tr,y)"
   ]
  },
  {
   "cell_type": "code",
   "execution_count": 195,
   "metadata": {
    "ExecuteTime": {
     "end_time": "2023-01-10T05:09:27.467426Z",
     "start_time": "2023-01-10T05:09:27.008655Z"
    }
   },
   "outputs": [
    {
     "data": {
      "image/png": "[encoded data removed]",
      "text/plain": [
       "<Figure size 432x432 with 1 Axes>"
      ]
     },
     "metadata": {},
     "output_type": "display_data"
    }
   ],
   "source": [
    "plt.figure(figsize = (6,6))\n",
    "plt.plot([1,2,3,4,5,6],list(grid_search.cv_results_['mean_test_score']))\n",
    "plt.xticks([1,2,3,4,5,6],['5','10','25','50','75','100'])\n",
    "plt.ylabel('f1_score')\n",
    "plt.xlabel(u'每层节点数')\n",
    "plt.title(u'不同层数的神经网络性能表现')\n",
    "plt.show()"
   ]
  },
  {
   "cell_type": "markdown",
   "metadata": {},
   "source": [
    "可以看到当每层节点数为25的时候，模型表现最佳。综上最终选定的参数为<span class=\"girk\">hidden_layer_sizes = (25,25)</span>."
   ]
  },
  {
   "cell_type": "markdown",
   "metadata": {},
   "source": [
    "### 获取最佳模型"
   ]
  },
  {
   "cell_type": "code",
   "execution_count": 196,
   "metadata": {
    "ExecuteTime": {
     "end_time": "2023-01-10T05:10:48.472152Z",
     "start_time": "2023-01-10T05:10:48.458191Z"
    }
   },
   "outputs": [],
   "source": [
    "nw_best_estimator = grid_search.best_estimator_"
   ]
  },
  {
   "cell_type": "markdown",
   "metadata": {},
   "source": [
    "## 随机森林的模型调优"
   ]
  },
  {
   "cell_type": "markdown",
   "metadata": {},
   "source": [
    "### 确定包含决策树的数量"
   ]
  },
  {
   "cell_type": "code",
   "execution_count": 198,
   "metadata": {
    "ExecuteTime": {
     "end_time": "2023-01-10T05:17:11.635637Z",
     "start_time": "2023-01-10T05:15:48.378276Z"
    }
   },
   "outputs": [
    {
     "data": {
      "text/html": [
       "<style>#sk-container-id-11 {color: black;background-color: white;}#sk-container-id-11 pre{padding: 0;}#sk-container-id-11 div.sk-toggleable {background-color: white;}#sk-container-id-11 label.sk-toggleable__label {cursor: pointer;display: block;width: 100%;margin-bottom: 0;padding: 0.3em;box-sizing: border-box;text-align: center;}#sk-container-id-11 label.sk-toggleable__label-arrow:before {content: \"▸\";float: left;margin-right: 0.25em;color: #696969;}#sk-container-id-11 label.sk-toggleable__label-arrow:hover:before {color: black;}#sk-container-id-11 div.sk-estimator:hover label.sk-toggleable__label-arrow:before {color: black;}#sk-container-id-11 div.sk-toggleable__content {max-height: 0;max-width: 0;overflow: hidden;text-align: left;background-color: #f0f8ff;}#sk-container-id-11 div.sk-toggleable__content pre {margin: 0.2em;color: black;border-radius: 0.25em;background-color: #f0f8ff;}#sk-container-id-11 input.sk-toggleable__control:checked~div.sk-toggleable__content {max-height: 200px;max-width: 100%;overflow: auto;}#sk-container-id-11 input.sk-toggleable__control:checked~label.sk-toggleable__label-arrow:before {content: \"▾\";}#sk-container-id-11 div.sk-estimator input.sk-toggleable__control:checked~label.sk-toggleable__label {background-color: #d4ebff;}#sk-container-id-11 div.sk-label input.sk-toggleable__control:checked~label.sk-toggleable__label {background-color: #d4ebff;}#sk-container-id-11 input.sk-hidden--visually {border: 0;clip: rect(1px 1px 1px 1px);clip: rect(1px, 1px, 1px, 1px);height: 1px;margin: -1px;overflow: hidden;padding: 0;position: absolute;width: 1px;}#sk-container-id-11 div.sk-estimator {font-family: monospace;background-color: #f0f8ff;border: 1px dotted black;border-radius: 0.25em;box-sizing: border-box;margin-bottom: 0.5em;}#sk-container-id-11 div.sk-estimator:hover {background-color: #d4ebff;}#sk-container-id-11 div.sk-parallel-item::after {content: \"\";width: 100%;border-bottom: 1px solid gray;flex-grow: 1;}#sk-container-id-11 div.sk-label:hover label.sk-toggleable__label {background-color: #d4ebff;}#sk-container-id-11 div.sk-serial::before {content: \"\";position: absolute;border-left: 1px solid gray;box-sizing: border-box;top: 0;bottom: 0;left: 50%;z-index: 0;}#sk-container-id-11 div.sk-serial {display: flex;flex-direction: column;align-items: center;background-color: white;padding-right: 0.2em;padding-left: 0.2em;position: relative;}#sk-container-id-11 div.sk-item {position: relative;z-index: 1;}#sk-container-id-11 div.sk-parallel {display: flex;align-items: stretch;justify-content: center;background-color: white;position: relative;}#sk-container-id-11 div.sk-item::before, #sk-container-id-11 div.sk-parallel-item::before {content: \"\";position: absolute;border-left: 1px solid gray;box-sizing: border-box;top: 0;bottom: 0;left: 50%;z-index: -1;}#sk-container-id-11 div.sk-parallel-item {display: flex;flex-direction: column;z-index: 1;position: relative;background-color: white;}#sk-container-id-11 div.sk-parallel-item:first-child::after {align-self: flex-end;width: 50%;}#sk-container-id-11 div.sk-parallel-item:last-child::after {align-self: flex-start;width: 50%;}#sk-container-id-11 div.sk-parallel-item:only-child::after {width: 0;}#sk-container-id-11 div.sk-dashed-wrapped {border: 1px dashed gray;margin: 0 0.4em 0.5em 0.4em;box-sizing: border-box;padding-bottom: 0.4em;background-color: white;}#sk-container-id-11 div.sk-label label {font-family: monospace;font-weight: bold;display: inline-block;line-height: 1.2em;}#sk-container-id-11 div.sk-label-container {text-align: center;}#sk-container-id-11 div.sk-container {/* jupyter's `normalize.less` sets `[hidden] { display: none; }` but bootstrap.min.css set `[hidden] { display: none !important; }` so we also need the `!important` here to be able to override the default hidden behavior on the sphinx rendered scikit-learn.org. See: https://github.com/scikit-learn/scikit-learn/issues/21755 */display: inline-block !important;position: relative;}#sk-container-id-11 div.sk-text-repr-fallback {display: none;}</style><div id=\"sk-container-id-11\" class=\"sk-top-container\"><div class=\"sk-text-repr-fallback\"><pre>GridSearchCV(cv=5, estimator=RandomForestClassifier(n_jobs=-1),\n",
       "             param_grid={&#x27;n_estimators&#x27;: [50, 100, 150, 200]}, scoring=&#x27;f1&#x27;)</pre><b>In a Jupyter environment, please rerun this cell to show the HTML representation or trust the notebook. <br />On GitHub, the HTML representation is unable to render, please try loading this page with nbviewer.org.</b></div><div class=\"sk-container\" hidden><div class=\"sk-item sk-dashed-wrapped\"><div class=\"sk-label-container\"><div class=\"sk-label sk-toggleable\"><input class=\"sk-toggleable__control sk-hidden--visually\" id=\"sk-estimator-id-15\" type=\"checkbox\" ><label for=\"sk-estimator-id-15\" class=\"sk-toggleable__label sk-toggleable__label-arrow\">GridSearchCV</label><div class=\"sk-toggleable__content\"><pre>GridSearchCV(cv=5, estimator=RandomForestClassifier(n_jobs=-1),\n",
       "             param_grid={&#x27;n_estimators&#x27;: [50, 100, 150, 200]}, scoring=&#x27;f1&#x27;)</pre></div></div></div><div class=\"sk-parallel\"><div class=\"sk-parallel-item\"><div class=\"sk-item\"><div class=\"sk-label-container\"><div class=\"sk-label sk-toggleable\"><input class=\"sk-toggleable__control sk-hidden--visually\" id=\"sk-estimator-id-16\" type=\"checkbox\" ><label for=\"sk-estimator-id-16\" class=\"sk-toggleable__label sk-toggleable__label-arrow\">estimator: RandomForestClassifier</label><div class=\"sk-toggleable__content\"><pre>RandomForestClassifier(n_jobs=-1)</pre></div></div></div><div class=\"sk-serial\"><div class=\"sk-item\"><div class=\"sk-estimator sk-toggleable\"><input class=\"sk-toggleable__control sk-hidden--visually\" id=\"sk-estimator-id-17\" type=\"checkbox\" ><label for=\"sk-estimator-id-17\" class=\"sk-toggleable__label sk-toggleable__label-arrow\">RandomForestClassifier</label><div class=\"sk-toggleable__content\"><pre>RandomForestClassifier(n_jobs=-1)</pre></div></div></div></div></div></div></div></div></div></div>"
      ],
      "text/plain": [
       "GridSearchCV(cv=5, estimator=RandomForestClassifier(n_jobs=-1),\n",
       "             param_grid={'n_estimators': [50, 100, 150, 200]}, scoring='f1')"
      ]
     },
     "execution_count": 198,
     "metadata": {},
     "output_type": "execute_result"
    }
   ],
   "source": [
    "from sklearn.model_selection import GridSearchCV\n",
    "param_grid = {'n_estimators':[50,100,150,200]}\n",
    "grid_search = GridSearchCV(rfc,param_grid = param_grid,cv = 5,scoring = 'f1')\n",
    "grid_search.fit(X_tr,y)"
   ]
  },
  {
   "cell_type": "code",
   "execution_count": 200,
   "metadata": {
    "ExecuteTime": {
     "end_time": "2023-01-10T05:21:09.819764Z",
     "start_time": "2023-01-10T05:21:09.290670Z"
    }
   },
   "outputs": [
    {
     "data": {
      "image/png": "[encoded data removed]",
      "text/plain": [
       "<Figure size 432x432 with 1 Axes>"
      ]
     },
     "metadata": {},
     "output_type": "display_data"
    }
   ],
   "source": [
    "plt.figure(figsize = (6,6))\n",
    "plt.plot([1,2,3,4],list(grid_search.cv_results_['mean_test_score']))\n",
    "plt.xticks([1,2,3,4],['50','100','150','200'])\n",
    "plt.ylabel('f1_score')\n",
    "plt.xlabel(u'包含决策树数量')\n",
    "plt.title(u'不同决策树数量的随机森林性能表现')\n",
    "plt.show()"
   ]
  },
  {
   "cell_type": "markdown",
   "metadata": {
    "ExecuteTime": {
     "end_time": "2023-01-10T05:14:11.862391Z",
     "start_time": "2023-01-10T05:14:11.716781Z"
    }
   },
   "source": [
    "可以看到就此训练集来说，随机森林模型包含决策树数量为150的时候，性能最佳(f1_score:0.94675999)。"
   ]
  },
  {
   "cell_type": "markdown",
   "metadata": {},
   "source": [
    "### 确定考虑特征的数量（max_features）"
   ]
  },
  {
   "cell_type": "code",
   "execution_count": 209,
   "metadata": {
    "ExecuteTime": {
     "end_time": "2023-01-10T05:39:26.156574Z",
     "start_time": "2023-01-10T05:37:50.320452Z"
    }
   },
   "outputs": [
    {
     "data": {
      "text/html": [
       "<style>#sk-container-id-13 {color: black;background-color: white;}#sk-container-id-13 pre{padding: 0;}#sk-container-id-13 div.sk-toggleable {background-color: white;}#sk-container-id-13 label.sk-toggleable__label {cursor: pointer;display: block;width: 100%;margin-bottom: 0;padding: 0.3em;box-sizing: border-box;text-align: center;}#sk-container-id-13 label.sk-toggleable__label-arrow:before {content: \"▸\";float: left;margin-right: 0.25em;color: #696969;}#sk-container-id-13 label.sk-toggleable__label-arrow:hover:before {color: black;}#sk-container-id-13 div.sk-estimator:hover label.sk-toggleable__label-arrow:before {color: black;}#sk-container-id-13 div.sk-toggleable__content {max-height: 0;max-width: 0;overflow: hidden;text-align: left;background-color: #f0f8ff;}#sk-container-id-13 div.sk-toggleable__content pre {margin: 0.2em;color: black;border-radius: 0.25em;background-color: #f0f8ff;}#sk-container-id-13 input.sk-toggleable__control:checked~div.sk-toggleable__content {max-height: 200px;max-width: 100%;overflow: auto;}#sk-container-id-13 input.sk-toggleable__control:checked~label.sk-toggleable__label-arrow:before {content: \"▾\";}#sk-container-id-13 div.sk-estimator input.sk-toggleable__control:checked~label.sk-toggleable__label {background-color: #d4ebff;}#sk-container-id-13 div.sk-label input.sk-toggleable__control:checked~label.sk-toggleable__label {background-color: #d4ebff;}#sk-container-id-13 input.sk-hidden--visually {border: 0;clip: rect(1px 1px 1px 1px);clip: rect(1px, 1px, 1px, 1px);height: 1px;margin: -1px;overflow: hidden;padding: 0;position: absolute;width: 1px;}#sk-container-id-13 div.sk-estimator {font-family: monospace;background-color: #f0f8ff;border: 1px dotted black;border-radius: 0.25em;box-sizing: border-box;margin-bottom: 0.5em;}#sk-container-id-13 div.sk-estimator:hover {background-color: #d4ebff;}#sk-container-id-13 div.sk-parallel-item::after {content: \"\";width: 100%;border-bottom: 1px solid gray;flex-grow: 1;}#sk-container-id-13 div.sk-label:hover label.sk-toggleable__label {background-color: #d4ebff;}#sk-container-id-13 div.sk-serial::before {content: \"\";position: absolute;border-left: 1px solid gray;box-sizing: border-box;top: 0;bottom: 0;left: 50%;z-index: 0;}#sk-container-id-13 div.sk-serial {display: flex;flex-direction: column;align-items: center;background-color: white;padding-right: 0.2em;padding-left: 0.2em;position: relative;}#sk-container-id-13 div.sk-item {position: relative;z-index: 1;}#sk-container-id-13 div.sk-parallel {display: flex;align-items: stretch;justify-content: center;background-color: white;position: relative;}#sk-container-id-13 div.sk-item::before, #sk-container-id-13 div.sk-parallel-item::before {content: \"\";position: absolute;border-left: 1px solid gray;box-sizing: border-box;top: 0;bottom: 0;left: 50%;z-index: -1;}#sk-container-id-13 div.sk-parallel-item {display: flex;flex-direction: column;z-index: 1;position: relative;background-color: white;}#sk-container-id-13 div.sk-parallel-item:first-child::after {align-self: flex-end;width: 50%;}#sk-container-id-13 div.sk-parallel-item:last-child::after {align-self: flex-start;width: 50%;}#sk-container-id-13 div.sk-parallel-item:only-child::after {width: 0;}#sk-container-id-13 div.sk-dashed-wrapped {border: 1px dashed gray;margin: 0 0.4em 0.5em 0.4em;box-sizing: border-box;padding-bottom: 0.4em;background-color: white;}#sk-container-id-13 div.sk-label label {font-family: monospace;font-weight: bold;display: inline-block;line-height: 1.2em;}#sk-container-id-13 div.sk-label-container {text-align: center;}#sk-container-id-13 div.sk-container {/* jupyter's `normalize.less` sets `[hidden] { display: none; }` but bootstrap.min.css set `[hidden] { display: none !important; }` so we also need the `!important` here to be able to override the default hidden behavior on the sphinx rendered scikit-learn.org. See: https://github.com/scikit-learn/scikit-learn/issues/21755 */display: inline-block !important;position: relative;}#sk-container-id-13 div.sk-text-repr-fallback {display: none;}</style><div id=\"sk-container-id-13\" class=\"sk-top-container\"><div class=\"sk-text-repr-fallback\"><pre>GridSearchCV(cv=5, estimator=RandomForestClassifier(n_jobs=-1),\n",
       "             param_grid={&#x27;max_features&#x27;: [2, 3, 5, None],\n",
       "                         &#x27;n_estimators&#x27;: [150]},\n",
       "             scoring=&#x27;f1&#x27;)</pre><b>In a Jupyter environment, please rerun this cell to show the HTML representation or trust the notebook. <br />On GitHub, the HTML representation is unable to render, please try loading this page with nbviewer.org.</b></div><div class=\"sk-container\" hidden><div class=\"sk-item sk-dashed-wrapped\"><div class=\"sk-label-container\"><div class=\"sk-label sk-toggleable\"><input class=\"sk-toggleable__control sk-hidden--visually\" id=\"sk-estimator-id-21\" type=\"checkbox\" ><label for=\"sk-estimator-id-21\" class=\"sk-toggleable__label sk-toggleable__label-arrow\">GridSearchCV</label><div class=\"sk-toggleable__content\"><pre>GridSearchCV(cv=5, estimator=RandomForestClassifier(n_jobs=-1),\n",
       "             param_grid={&#x27;max_features&#x27;: [2, 3, 5, None],\n",
       "                         &#x27;n_estimators&#x27;: [150]},\n",
       "             scoring=&#x27;f1&#x27;)</pre></div></div></div><div class=\"sk-parallel\"><div class=\"sk-parallel-item\"><div class=\"sk-item\"><div class=\"sk-label-container\"><div class=\"sk-label sk-toggleable\"><input class=\"sk-toggleable__control sk-hidden--visually\" id=\"sk-estimator-id-22\" type=\"checkbox\" ><label for=\"sk-estimator-id-22\" class=\"sk-toggleable__label sk-toggleable__label-arrow\">estimator: RandomForestClassifier</label><div class=\"sk-toggleable__content\"><pre>RandomForestClassifier(n_jobs=-1)</pre></div></div></div><div class=\"sk-serial\"><div class=\"sk-item\"><div class=\"sk-estimator sk-toggleable\"><input class=\"sk-toggleable__control sk-hidden--visually\" id=\"sk-estimator-id-23\" type=\"checkbox\" ><label for=\"sk-estimator-id-23\" class=\"sk-toggleable__label sk-toggleable__label-arrow\">RandomForestClassifier</label><div class=\"sk-toggleable__content\"><pre>RandomForestClassifier(n_jobs=-1)</pre></div></div></div></div></div></div></div></div></div></div>"
      ],
      "text/plain": [
       "GridSearchCV(cv=5, estimator=RandomForestClassifier(n_jobs=-1),\n",
       "             param_grid={'max_features': [2, 3, 5, None],\n",
       "                         'n_estimators': [150]},\n",
       "             scoring='f1')"
      ]
     },
     "execution_count": 209,
     "metadata": {},
     "output_type": "execute_result"
    }
   ],
   "source": [
    "from sklearn.model_selection import GridSearchCV\n",
    "param_grid = {'max_features':[2,3,5,None],\n",
    "             'n_estimators':[150]}\n",
    "grid_search = GridSearchCV(rfc,param_grid = param_grid,cv = 5,scoring = 'f1')\n",
    "grid_search.fit(X_tr,y)"
   ]
  },
  {
   "cell_type": "code",
   "execution_count": 210,
   "metadata": {
    "ExecuteTime": {
     "end_time": "2023-01-10T05:39:46.668532Z",
     "start_time": "2023-01-10T05:39:46.643598Z"
    }
   },
   "outputs": [
    {
     "data": {
      "text/plain": [
       "{'mean_fit_time': array([2.72638216, 3.08801341, 4.26002259, 7.3654273 ]),\n",
       " 'std_fit_time': array([0.11051952, 0.02406807, 0.02694371, 0.06505477]),\n",
       " 'mean_score_time': array([0.18196697, 0.17362313, 0.16216564, 0.1626657 ]),\n",
       " 'std_score_time': array([0.02303764, 0.00973187, 0.0092402 , 0.0087471 ]),\n",
       " 'param_max_features': masked_array(data=[2, 3, 5, None],\n",
       "              mask=[False, False, False, False],\n",
       "        fill_value='?',\n",
       "             dtype=object),\n",
       " 'param_n_estimators': masked_array(data=[150, 150, 150, 150],\n",
       "              mask=[False, False, False, False],\n",
       "        fill_value='?',\n",
       "             dtype=object),\n",
       " 'params': [{'max_features': 2, 'n_estimators': 150},\n",
       "  {'max_features': 3, 'n_estimators': 150},\n",
       "  {'max_features': 5, 'n_estimators': 150},\n",
       "  {'max_features': None, 'n_estimators': 150}],\n",
       " 'split0_test_score': array([0.94391171, 0.94500724, 0.9466462 , 0.94636429]),\n",
       " 'split1_test_score': array([0.9465497 , 0.94727322, 0.94967928, 0.94931125]),\n",
       " 'split2_test_score': array([0.94877828, 0.94881534, 0.94958439, 0.95000899]),\n",
       " 'split3_test_score': array([0.94465545, 0.94528353, 0.9465511 , 0.9464672 ]),\n",
       " 'split4_test_score': array([0.9438304 , 0.94542158, 0.9462074 , 0.94567078]),\n",
       " 'mean_test_score': array([0.94554511, 0.94636018, 0.94773367, 0.9475645 ]),\n",
       " 'std_test_score': array([0.0018901 , 0.00146506, 0.00155699, 0.00174685]),\n",
       " 'rank_test_score': array([4, 3, 1, 2])}"
      ]
     },
     "execution_count": 210,
     "metadata": {},
     "output_type": "execute_result"
    }
   ],
   "source": [
    "grid_search.cv_results_"
   ]
  },
  {
   "cell_type": "code",
   "execution_count": 211,
   "metadata": {
    "ExecuteTime": {
     "end_time": "2023-01-10T05:41:24.360999Z",
     "start_time": "2023-01-10T05:41:23.850921Z"
    }
   },
   "outputs": [
    {
     "data": {
      "image/png": "[encoded data removed]",
      "text/plain": [
       "<Figure size 432x432 with 1 Axes>"
      ]
     },
     "metadata": {},
     "output_type": "display_data"
    }
   ],
   "source": [
    "plt.figure(figsize = (6,6))\n",
    "plt.plot([1,2,3,4],list(grid_search.cv_results_['mean_test_score']))\n",
    "plt.xticks([1,2,3,4],['2','3','5','10'])\n",
    "plt.ylabel('f1_score')\n",
    "plt.xlabel(u'参考特征的数量')\n",
    "plt.title(u'n_estimators = 150 不同参考特征数量的随机森林性能表现')\n",
    "plt.show()"
   ]
  },
  {
   "cell_type": "markdown",
   "metadata": {
    "ExecuteTime": {
     "end_time": "2023-01-10T05:36:46.261132Z",
     "start_time": "2023-01-10T05:36:46.251160Z"
    }
   },
   "source": [
    "可以看到就此训练集来说，当n_estimators = 150时，参考特征的数量为5的情况下性能最佳(f1_score = 0.94773367)。综上最终选定的模型参数为{n_estimatros = 150,max_features = 5}。"
   ]
  },
  {
   "cell_type": "markdown",
   "metadata": {
    "ExecuteTime": {
     "end_time": "2023-01-10T05:37:29.396222Z",
     "start_time": "2023-01-10T05:37:29.379269Z"
    }
   },
   "source": [
    "### 获取最佳模型"
   ]
  },
  {
   "cell_type": "code",
   "execution_count": 212,
   "metadata": {
    "ExecuteTime": {
     "end_time": "2023-01-10T05:46:17.358846Z",
     "start_time": "2023-01-10T05:46:17.341889Z"
    }
   },
   "outputs": [],
   "source": [
    "rfc_best_estimator = grid_search.best_estimator_"
   ]
  },
  {
   "cell_type": "markdown",
   "metadata": {},
   "source": [
    "# 测试集表现"
   ]
  },
  {
   "cell_type": "markdown",
   "metadata": {},
   "source": [
    "## 测试集自变量数据处理"
   ]
  },
  {
   "cell_type": "code",
   "execution_count": 214,
   "metadata": {
    "ExecuteTime": {
     "end_time": "2023-01-10T05:49:35.048562Z",
     "start_time": "2023-01-10T05:49:34.841119Z"
    }
   },
   "outputs": [
    {
     "data": {
      "text/html": [
       "<div>\n",
       "<style scoped>\n",
       "    .dataframe tbody tr th:only-of-type {\n",
       "        vertical-align: middle;\n",
       "    }\n",
       "\n",
       "    .dataframe tbody tr th {\n",
       "        vertical-align: top;\n",
       "    }\n",
       "\n",
       "    .dataframe thead th {\n",
       "        text-align: right;\n",
       "    }\n",
       "</style>\n",
       "<table border=\"1\" class=\"dataframe\">\n",
       "  <thead>\n",
       "    <tr style=\"text-align: right;\">\n",
       "      <th></th>\n",
       "      <th>subscription_age</th>\n",
       "      <th>bill_avg</th>\n",
       "      <th>reamining_contract</th>\n",
       "      <th>service_failure_count</th>\n",
       "      <th>download_avg</th>\n",
       "      <th>upload_avg</th>\n",
       "      <th>download_over_limit</th>\n",
       "      <th>is_tv_subscriber</th>\n",
       "      <th>is_movie_package_subscriber</th>\n",
       "      <th>is_contract</th>\n",
       "    </tr>\n",
       "  </thead>\n",
       "  <tbody>\n",
       "    <tr>\n",
       "      <th>0</th>\n",
       "      <td>-0.187149</td>\n",
       "      <td>0.254927</td>\n",
       "      <td>2.025632</td>\n",
       "      <td>-0.442440</td>\n",
       "      <td>0.811971</td>\n",
       "      <td>1.136247</td>\n",
       "      <td>-0.207563</td>\n",
       "      <td>1</td>\n",
       "      <td>1</td>\n",
       "      <td>1.0</td>\n",
       "    </tr>\n",
       "    <tr>\n",
       "      <th>1</th>\n",
       "      <td>0.942122</td>\n",
       "      <td>0.282701</td>\n",
       "      <td>2.100664</td>\n",
       "      <td>-0.442440</td>\n",
       "      <td>0.326695</td>\n",
       "      <td>0.866011</td>\n",
       "      <td>-0.207563</td>\n",
       "      <td>0</td>\n",
       "      <td>0</td>\n",
       "      <td>1.0</td>\n",
       "    </tr>\n",
       "    <tr>\n",
       "      <th>2</th>\n",
       "      <td>-1.105295</td>\n",
       "      <td>0.125839</td>\n",
       "      <td>-0.750542</td>\n",
       "      <td>-0.442440</td>\n",
       "      <td>-0.178824</td>\n",
       "      <td>-0.519021</td>\n",
       "      <td>-0.207563</td>\n",
       "      <td>0</td>\n",
       "      <td>0</td>\n",
       "      <td>1.0</td>\n",
       "    </tr>\n",
       "    <tr>\n",
       "      <th>3</th>\n",
       "      <td>-1.085656</td>\n",
       "      <td>0.046670</td>\n",
       "      <td>-0.750542</td>\n",
       "      <td>-0.442440</td>\n",
       "      <td>0.412384</td>\n",
       "      <td>0.676391</td>\n",
       "      <td>-0.207563</td>\n",
       "      <td>1</td>\n",
       "      <td>0</td>\n",
       "      <td>1.0</td>\n",
       "    </tr>\n",
       "    <tr>\n",
       "      <th>4</th>\n",
       "      <td>0.809555</td>\n",
       "      <td>0.254927</td>\n",
       "      <td>1.995619</td>\n",
       "      <td>2.423322</td>\n",
       "      <td>0.853708</td>\n",
       "      <td>0.718356</td>\n",
       "      <td>-0.207563</td>\n",
       "      <td>1</td>\n",
       "      <td>1</td>\n",
       "      <td>1.0</td>\n",
       "    </tr>\n",
       "  </tbody>\n",
       "</table>\n",
       "</div>"
      ],
      "text/plain": [
       "   subscription_age  bill_avg  reamining_contract  service_failure_count  \\\n",
       "0         -0.187149  0.254927            2.025632              -0.442440   \n",
       "1          0.942122  0.282701            2.100664              -0.442440   \n",
       "2         -1.105295  0.125839           -0.750542              -0.442440   \n",
       "3         -1.085656  0.046670           -0.750542              -0.442440   \n",
       "4          0.809555  0.254927            1.995619               2.423322   \n",
       "\n",
       "   download_avg  upload_avg  download_over_limit  is_tv_subscriber  \\\n",
       "0      0.811971    1.136247            -0.207563                 1   \n",
       "1      0.326695    0.866011            -0.207563                 0   \n",
       "2     -0.178824   -0.519021            -0.207563                 0   \n",
       "3      0.412384    0.676391            -0.207563                 1   \n",
       "4      0.853708    0.718356            -0.207563                 1   \n",
       "\n",
       "   is_movie_package_subscriber  is_contract  \n",
       "0                            1          1.0  \n",
       "1                            0          1.0  \n",
       "2                            0          1.0  \n",
       "3                            0          1.0  \n",
       "4                            1          1.0  "
      ]
     },
     "execution_count": 214,
     "metadata": {},
     "output_type": "execute_result"
    }
   ],
   "source": [
    "X_test_c_num = pd.DataFrame(ss.transform(X_test[c_num]),columns = c_num)\n",
    "X_test_tr = pd.concat([X_test_c_num,X_test[c_object]],axis = 1)\n",
    "X_test_tr.head()"
   ]
  },
  {
   "cell_type": "markdown",
   "metadata": {
    "ExecuteTime": {
     "end_time": "2023-01-10T05:48:51.806557Z",
     "start_time": "2023-01-10T05:48:51.790600Z"
    }
   },
   "source": [
    "## 神经网络"
   ]
  },
  {
   "cell_type": "markdown",
   "metadata": {},
   "source": [
    "### 模型评估"
   ]
  },
  {
   "cell_type": "code",
   "execution_count": 215,
   "metadata": {
    "ExecuteTime": {
     "end_time": "2023-01-10T05:55:09.608325Z",
     "start_time": "2023-01-10T05:55:09.362022Z"
    }
   },
   "outputs": [
    {
     "name": "stdout",
     "output_type": "stream",
     "text": [
      "Accuracy:0.9371754451038575\n",
      "Precision:0.9500500333555704\n",
      "Recall:0.9377726561856943\n",
      "f1_score:0.9438714220620521\n",
      "              precision    recall  f1-score   support\n",
      "\n",
      "         未流失       0.92      0.94      0.93      9419\n",
      "          流失       0.95      0.94      0.94     12149\n",
      "\n",
      "    accuracy                           0.94     21568\n",
      "   macro avg       0.94      0.94      0.94     21568\n",
      "weighted avg       0.94      0.94      0.94     21568\n",
      "\n"
     ]
    }
   ],
   "source": [
    "from sklearn.metrics import accuracy_score,precision_score,f1_score,recall_score,classification_report,confusion_matrix\n",
    "y_predict = nw_best_estimator.predict(X_test_tr)\n",
    "print('Accuracy:{}'.format(accuracy_score(y_test,y_predict)))\n",
    "print('Precision:{}'.format(precision_score(y_test,y_predict)))\n",
    "print('Recall:{}'.format(recall_score(y_test,y_predict)))\n",
    "print('f1_score:{}'.format(f1_score(y_test,y_predict)))\n",
    "\n",
    "print(classification_report(y_test,y_predict,labels = [0,1],target_names = ['未流失','流失']))"
   ]
  },
  {
   "cell_type": "markdown",
   "metadata": {},
   "source": [
    "### ROC曲线、AUC评估"
   ]
  },
  {
   "cell_type": "code",
   "execution_count": 216,
   "metadata": {
    "ExecuteTime": {
     "end_time": "2023-01-10T05:59:33.383712Z",
     "start_time": "2023-01-10T05:59:33.244041Z"
    }
   },
   "outputs": [
    {
     "name": "stdout",
     "output_type": "stream",
     "text": [
      "测试集AUC评估值:0.9711210637573867\n"
     ]
    }
   ],
   "source": [
    "from sklearn.metrics import roc_auc_score,roc_curve\n",
    "y_predict_proba = nw_best_estimator.predict_proba(X_test_tr)\n",
    "fpr1,tpr1,thr1 = roc_curve(y_test.values.ravel(),y_predict_proba[:,1])\n",
    "auc = roc_auc_score(y_test.values.ravel(),y_predict_proba[:,1])\n",
    "print('测试集AUC评估值:{}'.format(auc))"
   ]
  },
  {
   "cell_type": "code",
   "execution_count": 217,
   "metadata": {
    "ExecuteTime": {
     "end_time": "2023-01-10T06:00:25.415978Z",
     "start_time": "2023-01-10T06:00:24.711767Z"
    }
   },
   "outputs": [
    {
     "data": {
      "image/png": "[encoded data removed]",
      "text/plain": [
       "<Figure size 432x432 with 1 Axes>"
      ]
     },
     "metadata": {},
     "output_type": "display_data"
    }
   ],
   "source": [
    "plt.figure(figsize=(6,6))\n",
    "plt.plot(fpr1,tpr1)\n",
    "plt.plot(fpr1,fpr1)\n",
    "plt.xlabel('False Positive Rate')\n",
    "plt.ylabel('True Positive Rate')\n",
    "plt.title(u'神经网络测试集ROC曲线')\n",
    "plt.show()"
   ]
  },
  {
   "cell_type": "markdown",
   "metadata": {},
   "source": [
    "## 随机森林"
   ]
  },
  {
   "cell_type": "markdown",
   "metadata": {},
   "source": [
    "### 模型评估"
   ]
  },
  {
   "cell_type": "code",
   "execution_count": 218,
   "metadata": {
    "ExecuteTime": {
     "end_time": "2023-01-10T06:02:07.270810Z",
     "start_time": "2023-01-10T06:02:06.638537Z"
    }
   },
   "outputs": [
    {
     "name": "stdout",
     "output_type": "stream",
     "text": [
      "Accuracy:0.9432956231454006\n",
      "Precision:0.95525\n",
      "Recall:0.9435344472796114\n",
      "f1_score:0.9493560809971427\n",
      "              precision    recall  f1-score   support\n",
      "\n",
      "         未流失       0.93      0.94      0.94      9419\n",
      "          流失       0.96      0.94      0.95     12149\n",
      "\n",
      "    accuracy                           0.94     21568\n",
      "   macro avg       0.94      0.94      0.94     21568\n",
      "weighted avg       0.94      0.94      0.94     21568\n",
      "\n"
     ]
    }
   ],
   "source": [
    "from sklearn.metrics import accuracy_score,precision_score,f1_score,recall_score,classification_report,confusion_matrix\n",
    "y_predict = rfc_best_estimator.predict(X_test_tr)\n",
    "print('Accuracy:{}'.format(accuracy_score(y_test,y_predict)))\n",
    "print('Precision:{}'.format(precision_score(y_test,y_predict)))\n",
    "print('Recall:{}'.format(recall_score(y_test,y_predict)))\n",
    "print('f1_score:{}'.format(f1_score(y_test,y_predict)))\n",
    "\n",
    "print(classification_report(y_test,y_predict,labels = [0,1],target_names = ['未流失','流失']))"
   ]
  },
  {
   "cell_type": "markdown",
   "metadata": {
    "ExecuteTime": {
     "end_time": "2023-01-10T06:02:38.950501Z",
     "start_time": "2023-01-10T06:02:38.940531Z"
    }
   },
   "source": [
    "### ROC曲线、AUC评估"
   ]
  },
  {
   "cell_type": "code",
   "execution_count": 220,
   "metadata": {
    "ExecuteTime": {
     "end_time": "2023-01-10T06:03:14.298685Z",
     "start_time": "2023-01-10T06:03:13.962584Z"
    }
   },
   "outputs": [
    {
     "name": "stdout",
     "output_type": "stream",
     "text": [
      "测试集AUC评估值:0.9801920811424618\n"
     ]
    }
   ],
   "source": [
    "from sklearn.metrics import roc_auc_score,roc_curve\n",
    "y_predict_proba = rfc_best_estimator.predict_proba(X_test_tr)\n",
    "fpr2,tpr2,thr2 = roc_curve(y_test.values.ravel(),y_predict_proba[:,1])\n",
    "auc = roc_auc_score(y_test.values.ravel(),y_predict_proba[:,1])\n",
    "print('测试集AUC评估值:{}'.format(auc))"
   ]
  },
  {
   "cell_type": "code",
   "execution_count": 221,
   "metadata": {
    "ExecuteTime": {
     "end_time": "2023-01-10T06:03:51.414403Z",
     "start_time": "2023-01-10T06:03:50.936681Z"
    }
   },
   "outputs": [
    {
     "data": {
      "image/png": "[encoded data removed]",
      "text/plain": [
       "<Figure size 432x432 with 1 Axes>"
      ]
     },
     "metadata": {},
     "output_type": "display_data"
    }
   ],
   "source": [
    "plt.figure(figsize=(6,6))\n",
    "plt.plot(fpr2,tpr2)\n",
    "plt.plot(fpr2,fpr2)\n",
    "plt.xlabel('False Positive Rate')\n",
    "plt.ylabel('True Positive Rate')\n",
    "plt.title(u'随机森林测试集ROC曲线')\n",
    "plt.show()"
   ]
  },
  {
   "cell_type": "markdown",
   "metadata": {},
   "source": [
    "## 小结"
   ]
  },
  {
   "cell_type": "markdown",
   "metadata": {},
   "source": [
    "从神经网络和随机森林在测试集上的表现来看，随机森林的表现更优。<span class=\"girk\">于是未来在做有关于客户流失可能性预测的时候，随机森林算法更适用</span>。\n",
    "\n",
    "| 算法名 | f1_score | AUC |\n",
    "| --- | --- | --- |\n",
    "| 神经网络 | 0.9439 | 0.9711 |\n",
    "| 随机森林 | 0.9494 | 0.9802 |"
   ]
  },
  {
   "cell_type": "markdown",
   "metadata": {},
   "source": [
    "# 业务建议"
   ]
  },
  {
   "cell_type": "code",
   "execution_count": 223,
   "metadata": {
    "ExecuteTime": {
     "end_time": "2023-01-10T06:11:49.045839Z",
     "start_time": "2023-01-10T06:11:48.896107Z"
    }
   },
   "outputs": [
    {
     "data": {
      "text/html": [
       "<div>\n",
       "<style scoped>\n",
       "    .dataframe tbody tr th:only-of-type {\n",
       "        vertical-align: middle;\n",
       "    }\n",
       "\n",
       "    .dataframe tbody tr th {\n",
       "        vertical-align: top;\n",
       "    }\n",
       "\n",
       "    .dataframe thead th {\n",
       "        text-align: right;\n",
       "    }\n",
       "</style>\n",
       "<table border=\"1\" class=\"dataframe\">\n",
       "  <thead>\n",
       "    <tr style=\"text-align: right;\">\n",
       "      <th></th>\n",
       "      <th>特征</th>\n",
       "      <th>系数绝对值</th>\n",
       "      <th>系数值</th>\n",
       "    </tr>\n",
       "  </thead>\n",
       "  <tbody>\n",
       "    <tr>\n",
       "      <th>0</th>\n",
       "      <td>reamining_contract</td>\n",
       "      <td>0.646283</td>\n",
       "      <td>0.646283</td>\n",
       "    </tr>\n",
       "    <tr>\n",
       "      <th>1</th>\n",
       "      <td>download_avg</td>\n",
       "      <td>0.129147</td>\n",
       "      <td>0.129147</td>\n",
       "    </tr>\n",
       "    <tr>\n",
       "      <th>2</th>\n",
       "      <td>upload_avg</td>\n",
       "      <td>0.072023</td>\n",
       "      <td>0.072023</td>\n",
       "    </tr>\n",
       "    <tr>\n",
       "      <th>3</th>\n",
       "      <td>subscription_age</td>\n",
       "      <td>0.061386</td>\n",
       "      <td>0.061386</td>\n",
       "    </tr>\n",
       "    <tr>\n",
       "      <th>4</th>\n",
       "      <td>bill_avg</td>\n",
       "      <td>0.048590</td>\n",
       "      <td>0.048590</td>\n",
       "    </tr>\n",
       "    <tr>\n",
       "      <th>5</th>\n",
       "      <td>is_movie_package_subscriber</td>\n",
       "      <td>0.014753</td>\n",
       "      <td>0.014753</td>\n",
       "    </tr>\n",
       "    <tr>\n",
       "      <th>6</th>\n",
       "      <td>is_tv_subscriber</td>\n",
       "      <td>0.013844</td>\n",
       "      <td>0.013844</td>\n",
       "    </tr>\n",
       "    <tr>\n",
       "      <th>7</th>\n",
       "      <td>is_contract</td>\n",
       "      <td>0.006121</td>\n",
       "      <td>0.006121</td>\n",
       "    </tr>\n",
       "    <tr>\n",
       "      <th>8</th>\n",
       "      <td>service_failure_count</td>\n",
       "      <td>0.005866</td>\n",
       "      <td>0.005866</td>\n",
       "    </tr>\n",
       "    <tr>\n",
       "      <th>9</th>\n",
       "      <td>download_over_limit</td>\n",
       "      <td>0.001987</td>\n",
       "      <td>0.001987</td>\n",
       "    </tr>\n",
       "  </tbody>\n",
       "</table>\n",
       "</div>"
      ],
      "text/plain": [
       "                            特征     系数绝对值       系数值\n",
       "0           reamining_contract  0.646283  0.646283\n",
       "1                 download_avg  0.129147  0.129147\n",
       "2                   upload_avg  0.072023  0.072023\n",
       "3             subscription_age  0.061386  0.061386\n",
       "4                     bill_avg  0.048590  0.048590\n",
       "5  is_movie_package_subscriber  0.014753  0.014753\n",
       "6             is_tv_subscriber  0.013844  0.013844\n",
       "7                  is_contract  0.006121  0.006121\n",
       "8        service_failure_count  0.005866  0.005866\n",
       "9          download_over_limit  0.001987  0.001987"
      ]
     },
     "execution_count": 223,
     "metadata": {},
     "output_type": "execute_result"
    }
   ],
   "source": [
    "rfr_importance_dict = {'特征':X_tr.columns,\n",
    "                     '系数绝对值':abs(rfc_best_estimator.feature_importances_),\n",
    "                      '系数值':rfc_best_estimator.feature_importances_}\n",
    "rfr_importance_df = pd.DataFrame(rfr_importance_dict)\n",
    "rfr_importance_df.sort_values('系数绝对值',ascending = False,inplace=True)\n",
    "rfr_importance_df.reset_index(drop = True,inplace = True)\n",
    "rfr_importance_df"
   ]
  },
  {
   "cell_type": "markdown",
   "metadata": {},
   "source": [
    "上述表格展示了各特征在随机森林模型中的系数比重，可以看出'<span class=\"girk\">客户合同所剩年限</span>'这一特征对判断客户流失可能性的结果起到至关重要的作用，结合在探索数据环节的相关性模块的分析结果，可得到如下推论：<span class=\"girk\">客户合同所剩年限越长，流失的可能性越低</span>；影响权重其次的是'<span class=\"girk\">客户过去3个月平均下载量（GB）</span>'，同样是结合之前相关性的分析结果，可获得推论：<span class=\"girk\">下载量越低，流失的可能性越高</span>。<span class=\"pirk\">但由于这一特征的影响权重远低于'客户合同所剩年限'，所得推论的影响力有限</span>。"
   ]
  }
 ],
 "metadata": {
  "kernelspec": {
   "display_name": "Python 3",
   "language": "python",
   "name": "python3"
  },
  "language_info": {
   "codemirror_mode": {
    "name": "ipython",
    "version": 3
   },
   "file_extension": ".py",
   "mimetype": "text/x-python",
   "name": "python",
   "nbconvert_exporter": "python",
   "pygments_lexer": "ipython3",
   "version": "3.8.5"
  },
  "toc": {
   "base_numbering": 1,
   "nav_menu": {},
   "number_sections": true,
   "sideBar": true,
   "skip_h1_title": false,
   "title_cell": "Table of Contents",
   "title_sidebar": "Contents",
   "toc_cell": false,
   "toc_position": {
    "height": "calc(100% - 180px)",
    "left": "10px",
    "top": "150px",
    "width": "175.741px"
   },
   "toc_section_display": true,
   "toc_window_display": true
  }
 },
 "nbformat": 4,
 "nbformat_minor": 4
}
